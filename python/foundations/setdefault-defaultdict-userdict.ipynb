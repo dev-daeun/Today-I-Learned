{
 "cells": [
  {
   "cell_type": "markdown",
   "metadata": {},
   "source": [
    "### 딕셔너리에 존재하지 않는 키를 조회할 때"
   ]
  },
  {
   "cell_type": "markdown",
   "metadata": {},
   "source": [
    "### 1. `setdefault()`"
   ]
  },
  {
   "cell_type": "code",
   "execution_count": 3,
   "metadata": {},
   "outputs": [
    {
     "name": "stdout",
     "output_type": "stream",
     "text": [
      "('ones', ['0:0'])\n",
      "('upon', ['0:1'])\n",
      "('a time', ['0:2'])\n",
      "('there', ['1:0', '3:0'])\n",
      "('were', ['1:1'])\n",
      "('three', ['1:2'])\n",
      "('bears', ['1:3'])\n",
      "('in', ['2:0', '4:0'])\n",
      "('the middle', ['2:1'])\n",
      "('of', ['2:2', '4:3'])\n",
      "('forest.', ['2:3', '5:3'])\n",
      "('was', ['3:1'])\n",
      "('a', ['3:2'])\n",
      "('girl', ['3:3'])\n",
      "('too', ['3:4'])\n",
      "('the', ['4:1', '5:2'])\n",
      "('tower', ['4:2'])\n",
      "('castle', ['4:4'])\n",
      "('next', ['5:0'])\n",
      "('to', ['5:1'])\n"
     ]
    }
   ],
   "source": [
    "sentences = [\n",
    "    ['ones', 'upon', 'a time'], \n",
    "    ['there', 'were', 'three', 'bears'], \n",
    "    ['in', 'the middle', 'of', 'forest.'],\n",
    "    ['there', 'was', 'a', 'girl', 'too'], \n",
    "    ['in', 'the', 'tower', 'of', 'castle'],\n",
    "    ['next', 'to', 'the', 'forest.']\n",
    "]\n",
    "index = {}\n",
    "for line_no, sen in enumerate(sentences):\n",
    "    for word_no, word in enumerate(sen):\n",
    "        occur = index.get(word, [])\n",
    "        occur.append(f'{line_no}:{word_no}')\n",
    "        index[word] = occur\n",
    "        \n",
    "for item in index.items():\n",
    "    print(item)"
   ]
  },
  {
   "cell_type": "markdown",
   "metadata": {},
   "source": [
    "중첩 for문에서 단어 발생을 처리하는 코드 세 줄은 `dict`의 `setdefault()`를 사용하면 한 줄로 바꿀 수 있다."
   ]
  },
  {
   "cell_type": "code",
   "execution_count": 4,
   "metadata": {},
   "outputs": [
    {
     "name": "stdout",
     "output_type": "stream",
     "text": [
      "('ones', ['0:0'])\n",
      "('upon', ['0:1'])\n",
      "('a time', ['0:2'])\n",
      "('there', ['1:0', '3:0'])\n",
      "('were', ['1:1'])\n",
      "('three', ['1:2'])\n",
      "('bears', ['1:3'])\n",
      "('in', ['2:0', '4:0'])\n",
      "('the middle', ['2:1'])\n",
      "('of', ['2:2', '4:3'])\n",
      "('forest.', ['2:3', '5:3'])\n",
      "('was', ['3:1'])\n",
      "('a', ['3:2'])\n",
      "('girl', ['3:3'])\n",
      "('too', ['3:4'])\n",
      "('the', ['4:1', '5:2'])\n",
      "('tower', ['4:2'])\n",
      "('castle', ['4:4'])\n",
      "('next', ['5:0'])\n",
      "('to', ['5:1'])\n"
     ]
    }
   ],
   "source": [
    "index = {}\n",
    "\n",
    "for line_no, sen in enumerate(sentences):\n",
    "    for word_no, word in enumerate(sen):\n",
    "        index.setdefault(word, []).append(f'{line_no}:{word_no}')\n",
    "        \n",
    "for item in index.items():\n",
    "    print(item)"
   ]
  },
  {
   "cell_type": "markdown",
   "metadata": {},
   "source": [
    "`setdefault(key[, default])`는 딕셔너리에 `key`가 없을 경우 (`key`, `default`) 쌍을 딕셔너리에 추가한 후 `default`를 리턴한다. 위의 경우 `word`를 키로 가지고 있지 않을 때 word에 해당하는 값을 키로, 빈 리스트가 값인 쌍을 딕셔너리에 새로 추가한다. 이후 word에 해당하는 키를 조회할 때 리스트를 불러오고, 불러온 리스트에 문자열을 덧붙인다. "
   ]
  },
  {
   "cell_type": "markdown",
   "metadata": {},
   "source": [
    "### 2. defaultdict"
   ]
  },
  {
   "cell_type": "markdown",
   "metadata": {},
   "source": [
    "`defaultdict`은 `__getitem__()`으로 존재하지 않는 키를 \n",
    "조회할 때마다 기본값을 생성하기 위한 callable을 제공한다. 기본값을 생성하는 callable은 `defaultdict`의 `default_factory`라는 속성에 저장된다."
   ]
  },
  {
   "cell_type": "code",
   "execution_count": 5,
   "metadata": {},
   "outputs": [
    {
     "name": "stdout",
     "output_type": "stream",
     "text": [
      "('ones', ['0:0'])\n",
      "('upon', ['0:1'])\n",
      "('a time', ['0:2'])\n",
      "('there', ['1:0', '3:0'])\n",
      "('were', ['1:1'])\n",
      "('three', ['1:2'])\n",
      "('bears', ['1:3'])\n",
      "('in', ['2:0', '4:0'])\n",
      "('the middle', ['2:1'])\n",
      "('of', ['2:2', '4:3'])\n",
      "('forest.', ['2:3', '5:3'])\n",
      "('was', ['3:1'])\n",
      "('a', ['3:2'])\n",
      "('girl', ['3:3'])\n",
      "('too', ['3:4'])\n",
      "('the', ['4:1', '5:2'])\n",
      "('tower', ['4:2'])\n",
      "('castle', ['4:4'])\n",
      "('next', ['5:0'])\n",
      "('to', ['5:1'])\n"
     ]
    }
   ],
   "source": [
    "from collections import defaultdict\n",
    "\n",
    "index = defaultdict(list)\n",
    "\n",
    "for line_no, sen in enumerate(sentences):\n",
    "    for word_no, word in enumerate(sen):\n",
    "        index[word].append(f'{line_no}:{word_no}')\n",
    "        \n",
    "for item in index.items():\n",
    "    print(item)"
   ]
  },
  {
   "cell_type": "markdown",
   "metadata": {},
   "source": [
    "`index[word]`는 `__getitem__()`을 호출한다. `__getitem__()`에 의해 `word`가 `index`에 없다는 게 확인되면, `index`의 `default_factory`속성에 저장된 callable을 호출해서 없는 값에 대한 항목을 생성한다. `default_factory`에는 `list`클래스의 생성자가 저장되어 있으므로\n",
    "빈 리스트가 `index[word]`에 할당된다. `__getitem__()`은 생성된 리스트를 리턴하므로 `append()`호출도 가능하다."
   ]
  },
  {
   "cell_type": "markdown",
   "metadata": {},
   "source": [
    "`default_factory`에 `int`를 저장하면 아래와 같이 응용할 수 있다. `int`생성자의 기본값은 0이다."
   ]
  },
  {
   "cell_type": "code",
   "execution_count": 11,
   "metadata": {},
   "outputs": [
    {
     "data": {
      "text/plain": [
       "[('i', 4), ('m', 1), ('p', 2), ('s', 4)]"
      ]
     },
     "execution_count": 11,
     "metadata": {},
     "output_type": "execute_result"
    }
   ],
   "source": [
    "s = 'mississippi'\n",
    "d = defaultdict(int)\n",
    "for k in s:\n",
    "    d[k] += 1\n",
    "    \n",
    "sorted(d.items())"
   ]
  },
  {
   "cell_type": "markdown",
   "metadata": {},
   "source": [
    "### 3. `UserDict`"
   ]
  },
  {
   "cell_type": "markdown",
   "metadata": {},
   "source": [
    "UserDict는 dict를 상속하지 않고 내부에 실제 항목을 갖고 있는 data라는 dict객체를 갖고 있다.\n",
    "이렇게 구현하므로서 __setitem__ 등의 특수메서드를 구현할 때 발생하는 원치않는 재귀호출을 피할 수 있으며\n",
    "__contains__메서드를 간단하게 구현할 수 있다,"
   ]
  },
  {
   "cell_type": "code",
   "execution_count": 9,
   "metadata": {},
   "outputs": [
    {
     "name": "stdout",
     "output_type": "stream",
     "text": [
      "red\n",
      "orange\n",
      "yellow\n"
     ]
    },
    {
     "ename": "KeyError",
     "evalue": "'red'",
     "output_type": "error",
     "traceback": [
      "\u001b[0;31m---------------------------------------------------------------------------\u001b[0m",
      "\u001b[0;31mKeyError\u001b[0m                                  Traceback (most recent call last)",
      "\u001b[0;32m<ipython-input-9-ef2d581db1d7>\u001b[0m in \u001b[0;36m<module>\u001b[0;34m\u001b[0m\n\u001b[1;32m     17\u001b[0m \u001b[0mprint\u001b[0m\u001b[0;34m(\u001b[0m\u001b[0muserdict\u001b[0m\u001b[0;34m[\u001b[0m\u001b[0;36m2\u001b[0m\u001b[0;34m]\u001b[0m\u001b[0;34m)\u001b[0m\u001b[0;34m\u001b[0m\u001b[0;34m\u001b[0m\u001b[0m\n\u001b[1;32m     18\u001b[0m \u001b[0mprint\u001b[0m\u001b[0;34m(\u001b[0m\u001b[0muserdict\u001b[0m\u001b[0;34m[\u001b[0m\u001b[0;36m3\u001b[0m\u001b[0;34m]\u001b[0m\u001b[0;34m)\u001b[0m\u001b[0;34m\u001b[0m\u001b[0;34m\u001b[0m\u001b[0m\n\u001b[0;32m---> 19\u001b[0;31m \u001b[0mprint\u001b[0m\u001b[0;34m(\u001b[0m\u001b[0muserdict\u001b[0m\u001b[0;34m[\u001b[0m\u001b[0;34m'red'\u001b[0m\u001b[0;34m]\u001b[0m\u001b[0;34m)\u001b[0m\u001b[0;34m\u001b[0m\u001b[0;34m\u001b[0m\u001b[0m\n\u001b[0m",
      "\u001b[0;32m/usr/local/Cellar/python/3.7.2_2/Frameworks/Python.framework/Versions/3.7/lib/python3.7/collections/__init__.py\u001b[0m in \u001b[0;36m__getitem__\u001b[0;34m(self, key)\u001b[0m\n\u001b[1;32m   1022\u001b[0m             \u001b[0;32mreturn\u001b[0m \u001b[0mself\u001b[0m\u001b[0;34m.\u001b[0m\u001b[0mdata\u001b[0m\u001b[0;34m[\u001b[0m\u001b[0mkey\u001b[0m\u001b[0;34m]\u001b[0m\u001b[0;34m\u001b[0m\u001b[0;34m\u001b[0m\u001b[0m\n\u001b[1;32m   1023\u001b[0m         \u001b[0;32mif\u001b[0m \u001b[0mhasattr\u001b[0m\u001b[0;34m(\u001b[0m\u001b[0mself\u001b[0m\u001b[0;34m.\u001b[0m\u001b[0m__class__\u001b[0m\u001b[0;34m,\u001b[0m \u001b[0;34m\"__missing__\"\u001b[0m\u001b[0;34m)\u001b[0m\u001b[0;34m:\u001b[0m\u001b[0;34m\u001b[0m\u001b[0;34m\u001b[0m\u001b[0m\n\u001b[0;32m-> 1024\u001b[0;31m             \u001b[0;32mreturn\u001b[0m \u001b[0mself\u001b[0m\u001b[0;34m.\u001b[0m\u001b[0m__class__\u001b[0m\u001b[0;34m.\u001b[0m\u001b[0m__missing__\u001b[0m\u001b[0;34m(\u001b[0m\u001b[0mself\u001b[0m\u001b[0;34m,\u001b[0m \u001b[0mkey\u001b[0m\u001b[0;34m)\u001b[0m\u001b[0;34m\u001b[0m\u001b[0;34m\u001b[0m\u001b[0m\n\u001b[0m\u001b[1;32m   1025\u001b[0m         \u001b[0;32mraise\u001b[0m \u001b[0mKeyError\u001b[0m\u001b[0;34m(\u001b[0m\u001b[0mkey\u001b[0m\u001b[0;34m)\u001b[0m\u001b[0;34m\u001b[0m\u001b[0;34m\u001b[0m\u001b[0m\n\u001b[1;32m   1026\u001b[0m     \u001b[0;32mdef\u001b[0m \u001b[0m__setitem__\u001b[0m\u001b[0;34m(\u001b[0m\u001b[0mself\u001b[0m\u001b[0;34m,\u001b[0m \u001b[0mkey\u001b[0m\u001b[0;34m,\u001b[0m \u001b[0mitem\u001b[0m\u001b[0;34m)\u001b[0m\u001b[0;34m:\u001b[0m \u001b[0mself\u001b[0m\u001b[0;34m.\u001b[0m\u001b[0mdata\u001b[0m\u001b[0;34m[\u001b[0m\u001b[0mkey\u001b[0m\u001b[0;34m]\u001b[0m \u001b[0;34m=\u001b[0m \u001b[0mitem\u001b[0m\u001b[0;34m\u001b[0m\u001b[0;34m\u001b[0m\u001b[0m\n",
      "\u001b[0;32m<ipython-input-9-ef2d581db1d7>\u001b[0m in \u001b[0;36m__missing__\u001b[0;34m(self, key)\u001b[0m\n\u001b[1;32m      4\u001b[0m     \u001b[0;32mdef\u001b[0m \u001b[0m__missing__\u001b[0m\u001b[0;34m(\u001b[0m\u001b[0mself\u001b[0m\u001b[0;34m,\u001b[0m \u001b[0mkey\u001b[0m\u001b[0;34m)\u001b[0m\u001b[0;34m:\u001b[0m\u001b[0;34m\u001b[0m\u001b[0;34m\u001b[0m\u001b[0m\n\u001b[1;32m      5\u001b[0m         \u001b[0;32mif\u001b[0m \u001b[0misinstance\u001b[0m\u001b[0;34m(\u001b[0m\u001b[0mkey\u001b[0m\u001b[0;34m,\u001b[0m \u001b[0mstr\u001b[0m\u001b[0;34m)\u001b[0m\u001b[0;34m:\u001b[0m\u001b[0;34m\u001b[0m\u001b[0;34m\u001b[0m\u001b[0m\n\u001b[0;32m----> 6\u001b[0;31m             \u001b[0;32mraise\u001b[0m \u001b[0mKeyError\u001b[0m\u001b[0;34m(\u001b[0m\u001b[0mkey\u001b[0m\u001b[0;34m)\u001b[0m\u001b[0;34m\u001b[0m\u001b[0;34m\u001b[0m\u001b[0m\n\u001b[0m\u001b[1;32m      7\u001b[0m         \u001b[0;32mreturn\u001b[0m \u001b[0mself\u001b[0m\u001b[0;34m[\u001b[0m\u001b[0mstr\u001b[0m\u001b[0;34m(\u001b[0m\u001b[0mkey\u001b[0m\u001b[0;34m)\u001b[0m\u001b[0;34m]\u001b[0m\u001b[0;34m\u001b[0m\u001b[0;34m\u001b[0m\u001b[0m\n\u001b[1;32m      8\u001b[0m \u001b[0;34m\u001b[0m\u001b[0m\n",
      "\u001b[0;31mKeyError\u001b[0m: 'red'"
     ]
    }
   ],
   "source": [
    "from collections import UserDict\n",
    "\n",
    "class IntToStrKeyDict(UserDict):\n",
    "    def __missing__(self, key):\n",
    "        if isinstance(key, str):\n",
    "            raise KeyError(key)\n",
    "        return self[str(key)]\n",
    "    \n",
    "    def __contains__(self, key):\n",
    "        return str(key) in self.data\n",
    "    \n",
    "    def __setitem__(self, key, item):\n",
    "        self.data[str(key)] = item\n",
    "        \n",
    "userdict = IntToStrKeyDict({'1': 'red', '2': 'orange', '3': 'yellow'})\n",
    "print(userdict[1])\n",
    "print(userdict[2])\n",
    "print(userdict[3])\n",
    "print(userdict['red'])"
   ]
  }
 ],
 "metadata": {
  "kernelspec": {
   "display_name": "Python 3",
   "language": "python",
   "name": "python3"
  },
  "language_info": {
   "codemirror_mode": {
    "name": "ipython",
    "version": 3
   },
   "file_extension": ".py",
   "mimetype": "text/x-python",
   "name": "python",
   "nbconvert_exporter": "python",
   "pygments_lexer": "ipython3",
   "version": "3.7.2"
  }
 },
 "nbformat": 4,
 "nbformat_minor": 2
}
