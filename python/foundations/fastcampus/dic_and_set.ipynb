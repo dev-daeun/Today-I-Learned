{
 "cells": [
  {
   "cell_type": "code",
   "execution_count": 12,
   "metadata": {},
   "outputs": [
    {
     "name": "stdout",
     "output_type": "stream",
     "text": [
      "The lady of L\n"
     ]
    }
   ],
   "source": [
    "cham_dic = {\n",
    "    \"Lux\": \"The lady of L\",\n",
    "    \"Aln\": \"Thie name\"\n",
    "}\n",
    "print(cham_dic.get(\"Lux\"))"
   ]
  },
  {
   "cell_type": "code",
   "execution_count": 20,
   "metadata": {},
   "outputs": [
    {
     "name": "stdout",
     "output_type": "stream",
     "text": [
      "Healer\n"
     ]
    }
   ],
   "source": [
    "print(cham_dic.get(\"Soka\", \"Healer\"))"
   ]
  },
  {
   "cell_type": "code",
   "execution_count": 21,
   "metadata": {},
   "outputs": [
    {
     "name": "stdout",
     "output_type": "stream",
     "text": [
      "dict_values(['The lady of L', 'Thie name'])\n"
     ]
    }
   ],
   "source": [
    "print(cham_dic.values())"
   ]
  },
  {
   "cell_type": "code",
   "execution_count": 22,
   "metadata": {},
   "outputs": [
    {
     "name": "stdout",
     "output_type": "stream",
     "text": [
      "dict_keys(['Lux', 'Aln'])\n"
     ]
    }
   ],
   "source": [
    "print(cham_dic.keys())"
   ]
  },
  {
   "cell_type": "code",
   "execution_count": 23,
   "metadata": {},
   "outputs": [
    {
     "name": "stdout",
     "output_type": "stream",
     "text": [
      "dict_items([('Lux', 'The lady of L'), ('Aln', 'Thie name')])\n"
     ]
    }
   ],
   "source": [
    "print(cham_dic.items())  # 각 키밸류를 튜플로 묶고 전체는 배열로 묶음."
   ]
  },
  {
   "cell_type": "code",
   "execution_count": 29,
   "metadata": {},
   "outputs": [
    {
     "name": "stdout",
     "output_type": "stream",
     "text": [
      "{'cherry', 'banana', 'apple'}\n",
      "False\n",
      "사과\n"
     ]
    }
   ],
   "source": [
    "fruits = {\n",
    "    \"apple\": \"사과\",\n",
    "    \"banana\": \"바나나\",\n",
    "    \"cherry\": \"체리\"\n",
    "}\n",
    "fruits_set = set(fruits)  # 딕셔너리의 키를 set으로 변환 가능.\n",
    "print(fruits_set)\n",
    "print('durian' in fruits_set)\n",
    "print(fruits[\"apple\"])"
   ]
  },
  {
   "cell_type": "code",
   "execution_count": 32,
   "metadata": {},
   "outputs": [
    {
     "name": "stdout",
     "output_type": "stream",
     "text": [
      "dict_keys(['girlsday', 'redvelvet'])\n",
      "dict_keys(['korean', 'members'])\n",
      "dict_values(['레드벨벳', ['아이린', '슬기', '웬디', '조이', '예리']])\n"
     ]
    }
   ],
   "source": [
    "girlgroups = {\n",
    "    \"girlsday\": {\n",
    "        \"korean\": \"걸스데이\",\n",
    "        \"members\": ['민아', '혜리', '소진', '유라']\n",
    "    },\n",
    "    \"redvelvet\": {\n",
    "        \"korean\": \"레드벨벳\",\n",
    "        \"members\": ['아이린', '슬기', '웬디', '조이', '예리']\n",
    "    }\n",
    "}\n",
    "print(girlgroups.keys())\n",
    "print(girlgroups[\"girlsday\"].keys())\n",
    "print(girlgroups[\"redvelvet\"].values())"
   ]
  },
  {
   "cell_type": "code",
   "execution_count": null,
   "metadata": {},
   "outputs": [],
   "source": []
  },
  {
   "cell_type": "code",
   "execution_count": 37,
   "metadata": {},
   "outputs": [
    {
     "name": "stdout",
     "output_type": "stream",
     "text": [
      "{4, 6}\n",
      "{9, 10}\n",
      "{1, 2, 3}\n"
     ]
    }
   ],
   "source": [
    "x = {1,2,3,4,5,6,8}\n",
    "y = {4,5,6,9,10,11}\n",
    "z = {4,6,8,9,7,10,12}\n",
    "print (x & y & z)\n",
    "print ((y & z) - x)\n",
    "print (x - (y | z))"
   ]
  },
  {
   "cell_type": "code",
   "execution_count": null,
   "metadata": {},
   "outputs": [],
   "source": []
  }
 ],
 "metadata": {
  "kernelspec": {
   "display_name": "Python 3",
   "language": "python",
   "name": "python3"
  },
  "language_info": {
   "codemirror_mode": {
    "name": "ipython",
    "version": 3
   },
   "file_extension": ".py",
   "mimetype": "text/x-python",
   "name": "python",
   "nbconvert_exporter": "python",
   "pygments_lexer": "ipython3",
   "version": "3.6.6"
  }
 },
 "nbformat": 4,
 "nbformat_minor": 2
}
