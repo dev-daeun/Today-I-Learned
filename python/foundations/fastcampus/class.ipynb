{
 "cells": [
  {
   "cell_type": "code",
   "execution_count": 14,
   "metadata": {},
   "outputs": [
    {
     "name": "stdout",
     "output_type": "stream",
     "text": [
      "<class '__main__.Shop'>\n",
      "MEGA coffee\n",
      "MEGA coffee\n",
      "This is shop.\n",
      "1\n",
      "<class '__main__.Shop'>\n",
      "Tour les jours\n",
      "This is shop.\n",
      "2\n",
      "This is shop.\n",
      "[MEGA coffee, Tour les jours]\n"
     ]
    }
   ],
   "source": [
    "class Shop:\n",
    "    # 클래스 속성\n",
    "    description = 'This is shop.'\n",
    "    count = 0\n",
    "    shop_list = []\n",
    "    \n",
    "    # 첫번째 파라미터로 인스턴스 자신이 전달된다.\n",
    "    def __init__(self, name):\n",
    "        self.name = name\n",
    "        Shop.count += 1\n",
    "        Shop.shop_list.append(self)\n",
    "    \n",
    "    # __repr__을 구현하면 str을 호출해도 repr의 문자열이 리턴된다.\n",
    "    # str()은 __str__이 오버라이딩되지 않으면 __repr__을 참조한다.\n",
    "    def __repr__(self):\n",
    "        return self.name\n",
    "    \n",
    "    # 클래스 메서드\n",
    "    # 첫번째 파라미터로 클래스 정의 자체가 전달된다.\n",
    "    # 클래스 정의가 전달되는 첫 번째 파라미터의 이름은 관용적으로 'cls'를 쓴다.\n",
    "    @classmethod\n",
    "    def get_description(cls):\n",
    "        return description\n",
    "    @classmethod\n",
    "    def get_count(cls):\n",
    "        return Shop.count\n",
    "    @classmethod\n",
    "    def get_list(cls):\n",
    "        return Shop.shop_list\n",
    "\n",
    "    \n",
    "cafe = Shop(\"MEGA coffee\")\n",
    "print(type(cafe))\n",
    "print(repr(cafe))\n",
    "print(str(cafe))\n",
    "print(cafe.description)\n",
    "print(Shop.get_count())\n",
    "\n",
    "bakery = Shop('Tour les jours')\n",
    "print(type(bakery))\n",
    "print(repr(bakery))\n",
    "print(bakery.description)\n",
    "print(Shop.get_count())\n",
    "\n",
    "print(Shop.description)\n",
    "print(Shop.get_list())"
   ]
  },
  {
   "cell_type": "code",
   "execution_count": 9,
   "metadata": {},
   "outputs": [
    {
     "name": "stdout",
     "output_type": "stream",
     "text": [
      "This is Cafe.\n"
     ]
    }
   ],
   "source": [
    "cafe.description = 'This is Cafe.'\n",
    "print(cafe.description)  # 인스턴스 속성은 클래스 속성보다 우선한다."
   ]
  },
  {
   "cell_type": "markdown",
   "metadata": {},
   "source": [
    "# 실습"
   ]
  },
  {
   "cell_type": "code",
   "execution_count": 19,
   "metadata": {},
   "outputs": [
    {
     "name": "stdout",
     "output_type": "stream",
     "text": [
      "상점: 롯데리아\n",
      "유형: 패스트푸드\n",
      "주소: 서울시 강남구\n",
      "상점: 롯데리아\n",
      "유형: 슬로우푸드\n",
      "주소: 서울시 강남구\n"
     ]
    }
   ],
   "source": [
    "class Shop:\n",
    "    def __init__(self, name, shop_type, address):\n",
    "        self.name = name\n",
    "        self.shop_type = shop_type\n",
    "        self.address = address\n",
    "        \n",
    "    def change_type(self, changed_type):\n",
    "        self.shop_type = changed_type\n",
    "        \n",
    "    def show_info(self):\n",
    "        return (\n",
    "            f\"상점: {self.name}\\n\"\n",
    "            f\"유형: {self.shop_type}\\n\"\n",
    "            f\"주소: {self.address}\"\n",
    "        )\n",
    "\n",
    "shop = Shop('롯데리아', '패스트푸드', '서울시 강남구')\n",
    "print(shop.show_info())\n",
    "\n",
    "shop.change_type('슬로우푸드')\n",
    "print(shop.show_info())\n"
   ]
  },
  {
   "cell_type": "markdown",
   "metadata": {},
   "source": [
    "# 속성 접근 지정자"
   ]
  },
  {
   "cell_type": "markdown",
   "metadata": {},
   "source": [
    "* private: 정의된 클래스의 내부에서만 변경 및 사용\n",
    "* protected: 정의된 클래스 및 상속받은 클래스에서만 변경 및 사용\n",
    "* public: 클래스 외부에서도 변경 및 사용"
   ]
  },
  {
   "cell_type": "code",
   "execution_count": 28,
   "metadata": {},
   "outputs": [
    {
     "name": "stdout",
     "output_type": "stream",
     "text": [
      "상점: 본죽\n",
      "유형: 슬로우푸드\n",
      "주소: 서울시 강남구\n",
      "상점: 본죽\n",
      "유형: 패스트푸드\n",
      "주소: 서울시 강남구\n",
      "상점: 본죽\n",
      "유형: 포포포\n",
      "주소: 서울시 강남구\n",
      "['_Shop__shop_type', '__class__', '__delattr__', '__dict__', '__dir__', '__doc__', '__eq__', '__format__', '__ge__', '__getattribute__', '__gt__', '__hash__', '__init__', '__init_subclass__', '__le__', '__lt__', '__module__', '__ne__', '__new__', '__reduce__', '__reduce_ex__', '__repr__', '__setattr__', '__sizeof__', '__str__', '__subclasshook__', '__weakref__', 'address', 'change_type', 'name', 'show_info']\n",
      "포포포\n"
     ]
    }
   ],
   "source": [
    "class Shop:\n",
    "    def __init__(self, name, shop_type, address):\n",
    "        self.name = name\n",
    "        self.__shop_type = shop_type\n",
    "        self.address = address\n",
    "        \n",
    "    def change_type(self, changed_type):\n",
    "        self.__shop_type = changed_type\n",
    "        \n",
    "    def show_info(self):\n",
    "        return (\n",
    "            f\"상점: {self.name}\\n\"\n",
    "            f\"유형: {self.__shop_type}\\n\"\n",
    "            f\"주소: {self.address}\"\n",
    "        )\n",
    "\n",
    "    \n",
    "shop = Shop('본죽', '슬로우푸드', '서울시 강남구')\n",
    "# print(shop.__shop_type)  # private 속성을 외부에서 접근하므로 Attribute Error.\n",
    "print(shop.show_info())\n",
    "\n",
    "shop.change_type('패스트푸드')\n",
    "print(shop.show_info())\n",
    "\n",
    "shop._Shop__shop_type = '포포포'  # private 속성을 변경하려고 하면 클래스 속성이 새로 생긴다.\n",
    "print(shop.show_info())  # 기존의 private 속성에는 아무런 영향 없음.\n",
    "\n",
    "# '_Shop__shop_type'이 새로 만들어지고 이 필드를 통해 private 속성 수정 가능하지만 \n",
    "# 이 필드를 통해 private 속성에 접근하는 건 옳지 않다.\n",
    "print(dir(shop))  \n",
    "print(shop._Shop__shop_type)"
   ]
  },
  {
   "cell_type": "markdown",
   "metadata": {},
   "source": [
    "# getter/setter 와 프로퍼티"
   ]
  },
  {
   "cell_type": "code",
   "execution_count": 55,
   "metadata": {},
   "outputs": [],
   "source": [
    "class Shop:\n",
    "    \n",
    "    # 클래스 속성은 대문자와 언더스코어.\n",
    "    SHOP_TYPE_LIST = ['패스트푸드', '슬로우푸드']\n",
    "    \n",
    "    def __init__(self, name, shop_type, address):\n",
    "        self.name = name\n",
    "        self.__shop_type = shop_type\n",
    "        self.address = address\n",
    "         \n",
    "    def show_info(self):\n",
    "        return (\n",
    "            f\"상점: {self.name}\\n\"\n",
    "            f\"유형: {self.__shop_type}\\n\"\n",
    "            f\"주소: {self.address}\"\n",
    "        )\n",
    "    \n",
    "    # private 속성에 getter함수만 있을 경우 해당 속성은 읽기 전용.\n",
    "    def get_shop_type(self):\n",
    "        return self.__shop_type\n",
    "    \n",
    "    # setter\n",
    "    def set_shop_type(self, shop_type):\n",
    "        if shop_type in self.SHOP_TYPE_LIST:\n",
    "            self.__shop_type = shop_type\n",
    "        else:\n",
    "            print(\"상점 유형은 {}중 하나여야 합니다.\".format(','.join(self.SHOP_TYPE_LIST)))\n",
    "        \n",
    "    "
   ]
  },
  {
   "cell_type": "code",
   "execution_count": 37,
   "metadata": {},
   "outputs": [
    {
     "name": "stdout",
     "output_type": "stream",
     "text": [
      "상점 유형은 패스트푸드,슬로우푸드중 하나여야 합니다.\n"
     ]
    }
   ],
   "source": [
    "shop = Shop('매머드커피', '카페', '서울시 성동구')\n",
    "shop.get_shop_type()\n",
    "shop.set_shop_type('커피전문점')"
   ]
  },
  {
   "cell_type": "code",
   "execution_count": 63,
   "metadata": {},
   "outputs": [],
   "source": [
    "class Shop:\n",
    "    \n",
    "    SHOP_TYPE_LIST = ['패스트푸드', '슬로우푸드']\n",
    "    \n",
    "    def __init__(self, name, shop_type, address):\n",
    "        self.name = name\n",
    "        self.__shop_type = shop_type\n",
    "        self.address = address\n",
    "         \n",
    "    def show_info(self):\n",
    "        return (\n",
    "            f\"상점: {self.name}\\n\"\n",
    "            f\"유형: {self.__shop_type}\\n\"\n",
    "            f\"주소: {self.address}\"\n",
    "        )\n",
    "    \n",
    "    def get_shop_type(self):\n",
    "        return self.__shop_type\n",
    "    \n",
    "    # @property는 리턴하는 값을 함수의 이름으로 접근하게 한다.(getter의 역할)\n",
    "    # shop_type이 동일한 이름의 다른 함수로 덮어씌워지면 property의 특성은 사라짐.\n",
    "    @property\n",
    "    def shop_type(self):\n",
    "        return self.__shop_type\n",
    "\n",
    "    # @property이름.setter는 property함수의 setter를 만들어줌.\n",
    "    @shop_type.setter\n",
    "    def shop_type(self, shop_type):\n",
    "        if shop_type in self.SHOP_TYPE_LIST:\n",
    "            self.__shop_type = shop_type\n",
    "        else:\n",
    "            print(\"상점 유형은 {}중 하나여야 합니다.\".format(','.join(self.SHOP_TYPE_LIST)))\n",
    "  \n",
    "        "
   ]
  },
  {
   "cell_type": "code",
   "execution_count": 64,
   "metadata": {},
   "outputs": [
    {
     "name": "stdout",
     "output_type": "stream",
     "text": [
      "샌드위치\n",
      "상점 유형은 패스트푸드,슬로우푸드중 하나여야 합니다.\n"
     ]
    }
   ],
   "source": [
    "shop = Shop('서브웨이', '샌드위치', '성수역')\n",
    "result = shop.shop_type  # @property 함수 호출\n",
    "print(result)\n",
    "shop.shop_type = '커피전문점'  #@shop_type.setter 함수 호출 "
   ]
  },
  {
   "cell_type": "code",
   "execution_count": 58,
   "metadata": {},
   "outputs": [
    {
     "data": {
      "text/plain": [
       "['SHOP_TYPE_LIST',\n",
       " '_Shop__shop_type',\n",
       " '__class__',\n",
       " '__delattr__',\n",
       " '__dict__',\n",
       " '__dir__',\n",
       " '__doc__',\n",
       " '__eq__',\n",
       " '__format__',\n",
       " '__ge__',\n",
       " '__getattribute__',\n",
       " '__gt__',\n",
       " '__hash__',\n",
       " '__init__',\n",
       " '__init_subclass__',\n",
       " '__le__',\n",
       " '__lt__',\n",
       " '__module__',\n",
       " '__ne__',\n",
       " '__new__',\n",
       " '__reduce__',\n",
       " '__reduce_ex__',\n",
       " '__repr__',\n",
       " '__setattr__',\n",
       " '__sizeof__',\n",
       " '__str__',\n",
       " '__subclasshook__',\n",
       " '__weakref__',\n",
       " 'address',\n",
       " 'get_shop_type',\n",
       " 'name',\n",
       " 'set_shop_type',\n",
       " 'show_info']"
      ]
     },
     "execution_count": 58,
     "metadata": {},
     "output_type": "execute_result"
    }
   ],
   "source": [
    "dir(shop)"
   ]
  },
  {
   "cell_type": "markdown",
   "metadata": {},
   "source": [
    "# 상속"
   ]
  },
  {
   "cell_type": "code",
   "execution_count": 91,
   "metadata": {},
   "outputs": [],
   "source": [
    "class Shop:\n",
    "    \n",
    "    SHOP_TYPE_LIST = ['패스트푸드', '슬로우푸드']\n",
    "    \n",
    "    def __init__(self, name, shop_type, address):\n",
    "        self.name = name\n",
    "        self._shop_type = shop_type  # _shop_type은 protected 속성\n",
    "        self.address = address\n",
    "     \n",
    "    @property\n",
    "    def info(self):\n",
    "        return (\n",
    "            f\"상점: {self.name}\\n\"\n",
    "            f\"유형: {self._shop_type}\\n\"\n",
    "            f\"주소: {self.address}\"\n",
    "        )\n",
    "    \n",
    "    def show_info(self):\n",
    "        print(self.info)\n",
    "        \n",
    "\n",
    "class Restaurant(Shop):\n",
    "    \n",
    "    def __init__(self, name, address, rating):\n",
    "        super().__init__(name=name, shop_type=\"식당\", address=address)\n",
    "        self.rating = rating\n",
    "        \n",
    "    @property\n",
    "    def info(self):\n",
    "        return super().info + \"\\n\" + f\"별점: {self.rating}\"\n",
    "    \n",
    "    def show_info(self):\n",
    "        super().show_info()"
   ]
  },
  {
   "cell_type": "code",
   "execution_count": 92,
   "metadata": {},
   "outputs": [
    {
     "name": "stdout",
     "output_type": "stream",
     "text": [
      "상점: 서브웨이\n",
      "유형: 식당\n",
      "주소: 성수역\n",
      "별점: 3\n"
     ]
    }
   ],
   "source": [
    "subway = Restaurant(\"서브웨이\", \"성수역\", 3)\n",
    "subway.show_info()"
   ]
  },
  {
   "cell_type": "markdown",
   "metadata": {},
   "source": [
    "# 정적메서드"
   ]
  },
  {
   "cell_type": "code",
   "execution_count": 9,
   "metadata": {},
   "outputs": [],
   "source": [
    "import random\n",
    "\n",
    "class Pokemon:\n",
    "    def __init__(self, name, type_):\n",
    "        self.name = name\n",
    "        self.type = type_\n",
    "        \n",
    "    # 정적메서드는 받는 파라미터 없음.\n",
    "    @staticmethod\n",
    "    def make_random_electric_pokemon():\n",
    "        pokemons = ('피카츄', '라이츄', '붐볼')\n",
    "        selected = random.choice(pokemons)\n",
    "        return Pokemon(selected, '전기')"
   ]
  },
  {
   "cell_type": "code",
   "execution_count": 12,
   "metadata": {},
   "outputs": [
    {
     "data": {
      "text/plain": [
       "'라이츄'"
      ]
     },
     "execution_count": 12,
     "metadata": {},
     "output_type": "execute_result"
    }
   ],
   "source": [
    "Pokemon.make_random_electric_pokemon().name"
   ]
  },
  {
   "cell_type": "code",
   "execution_count": 36,
   "metadata": {},
   "outputs": [],
   "source": [
    "class Shop:\n",
    "    def __init__(self, name):\n",
    "        self.name = name\n",
    "        \n",
    "    def __repr__(self):\n",
    "        return self.name\n",
    "    \n",
    "    @staticmethod\n",
    "    def make_dummy():\n",
    "        return Shop(\"정적메서드 미정\")\n",
    "    \n",
    "    @classmethod\n",
    "    def make_dummy2(cls):\n",
    "        return cls(\"클래스메서드 미정\")"
   ]
  },
  {
   "cell_type": "code",
   "execution_count": 37,
   "metadata": {},
   "outputs": [
    {
     "data": {
      "text/plain": [
       "'정적메서드 미정'"
      ]
     },
     "execution_count": 37,
     "metadata": {},
     "output_type": "execute_result"
    }
   ],
   "source": [
    "subway = Shop(\"서브웨이\")\n",
    "str(Shop.make_dummy())"
   ]
  },
  {
   "cell_type": "code",
   "execution_count": 38,
   "metadata": {},
   "outputs": [
    {
     "name": "stdout",
     "output_type": "stream",
     "text": [
      "<class '__main__.Shop'>\n"
     ]
    }
   ],
   "source": [
    "class Restaurant(Shop):\n",
    "    pass\n",
    "\n",
    "r = Restaurant.make_dummy()\n",
    "\n",
    "# 정적메소드를 상속받으면 메소드에서 리턴하는 객체의 타입은 부모클래스다.\n",
    "print(type(r))"
   ]
  },
  {
   "cell_type": "code",
   "execution_count": 42,
   "metadata": {},
   "outputs": [
    {
     "name": "stdout",
     "output_type": "stream",
     "text": [
      "클래스메서드 미정\n",
      "<class '__main__.Restaurant'>\n"
     ]
    }
   ],
   "source": [
    "r2 = Restaurant.make_dummy2()\n",
    "\n",
    "# 클래스메서드를 상속받으면 상속받은 자식클래스의 타입이 cls가 된다.\n",
    "print(str(r2))\n",
    "print(type(r2))"
   ]
  },
  {
   "cell_type": "markdown",
   "metadata": {},
   "source": [
    "# 다형성 & 동적 바인딩"
   ]
  },
  {
   "cell_type": "code",
   "execution_count": 50,
   "metadata": {},
   "outputs": [],
   "source": [
    "class User:\n",
    "    def __init__(self, name, atk=0, def_=0):\n",
    "        self.name = name\n",
    "        self.atk = atk\n",
    "        self.def_ = def_\n",
    "        \n",
    "    def equip(self, item):\n",
    "        item.use(self)\n",
    "        \n",
    "\n",
    "class Sword:\n",
    "    def __init__(self):\n",
    "        pass\n",
    "    \n",
    "    def use(self, user):\n",
    "        user.atk += 1\n",
    "        print(\"공격치가 1 향상되었습니다.\")\n",
    "        \n",
    "\n",
    "class Shield(Sword):\n",
    "    def __init__(self):\n",
    "        pass\n",
    "    \n",
    "    def use(self, user):\n",
    "        user.def_ += 1\n",
    "        print(\"방어치가 1 향상되었습니다.\")\n",
    "\n"
   ]
  },
  {
   "cell_type": "code",
   "execution_count": 51,
   "metadata": {},
   "outputs": [
    {
     "name": "stdout",
     "output_type": "stream",
     "text": [
      "방어치가 1 향상되었습니다.\n",
      "공격치가 1 향상되었습니다.\n"
     ]
    }
   ],
   "source": [
    "user = User(\"kde\")\n",
    "shield = Shield()\n",
    "sword = Sword()\n",
    "\n",
    "user.equip(shield)\n",
    "user.equip(sword)"
   ]
  },
  {
   "cell_type": "code",
   "execution_count": null,
   "metadata": {},
   "outputs": [],
   "source": []
  }
 ],
 "metadata": {
  "kernelspec": {
   "display_name": "Python 3",
   "language": "python",
   "name": "python3"
  },
  "language_info": {
   "codemirror_mode": {
    "name": "ipython",
    "version": 3
   },
   "file_extension": ".py",
   "mimetype": "text/x-python",
   "name": "python",
   "nbconvert_exporter": "python",
   "pygments_lexer": "ipython3",
   "version": "3.6.6"
  }
 },
 "nbformat": 4,
 "nbformat_minor": 2
}
