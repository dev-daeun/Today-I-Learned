{
 "cells": [
  {
   "cell_type": "code",
   "execution_count": 1,
   "metadata": {},
   "outputs": [
    {
     "name": "stdout",
     "output_type": "stream",
     "text": [
      "<function abc at 0x10a53ae18>\n"
     ]
    }
   ],
   "source": [
    "# 함수는 객체.\n",
    "def abc():\n",
    "    pass\n",
    "print(abc)"
   ]
  },
  {
   "cell_type": "code",
   "execution_count": 10,
   "metadata": {},
   "outputs": [
    {
     "name": "stdout",
     "output_type": "stream",
     "text": [
      "{'name': 'kde', 'age': '24', 'gender': 'woman', 'cls': 'WPS'}\n",
      "{'name': 'jadu', 'age': '1', 'gender': 'woman'}\n"
     ]
    }
   ],
   "source": [
    "def student(name, age, gender, cls='WPS'):\n",
    "    return {\n",
    "        'name': name,\n",
    "        'age': age,\n",
    "        'gender': gender,\n",
    "        'cls': cls\n",
    "    }\n",
    "\n",
    "print(student('kde','24','woman'))\n",
    "\n",
    "\n",
    "# 키워드 인자(함수의 arg가 많아서 순서 지키기 헷갈릴 때 유용.)\n",
    "def student_k(name, age, gender):\n",
    "    return {\n",
    "        'name': name,\n",
    "        'age': age,\n",
    "        'gender': gender \n",
    "    }\n",
    "\n",
    "print(student_k(name='jadu', age='1', gender='woman'))\n"
   ]
  },
  {
   "cell_type": "code",
   "execution_count": 13,
   "metadata": {},
   "outputs": [
    {
     "name": "stdout",
     "output_type": "stream",
     "text": [
      "4430824016\n",
      "4468094856\n",
      "[3]\n",
      "4430824048\n",
      "4468217096\n",
      "[4]\n",
      "4430824080\n",
      "4468217096\n",
      "[4, 5]\n"
     ]
    }
   ],
   "source": [
    "def return_list(value, result=[]):\n",
    "    print(id(value))  # 밖에서 정의된 숫자의 주소를 가짐.\n",
    "    print(id(result))  # 밖에서 정의된 empty의 주소를 가짐.\n",
    "    result.append(value)\n",
    "    return result\n",
    "\n",
    "empty = []\n",
    "return_list(3, empty)\n",
    "print(empty)\n",
    "\n",
    "# 기본 매개변수값은 함수가 호출되는 시점마다 계산되지 않고, \n",
    "# 함수가 정의되는 시점에 계산되어 계속해서 사용된다.\n",
    "print(return_list(4))  # [4]\n",
    "print(return_list(5))  # [4, 5] "
   ]
  },
  {
   "cell_type": "code",
   "execution_count": 14,
   "metadata": {},
   "outputs": [
    {
     "name": "stdout",
     "output_type": "stream",
     "text": [
      "4468924616\n",
      "[4]\n",
      "4468217096\n",
      "[5]\n"
     ]
    }
   ],
   "source": [
    "# 함수가 호출될 때마다 기본 매개변수에 새로운 값을 넣으려면 아래와 같이.\n",
    "def return_list(value, result=None):\n",
    "    if result is None:\n",
    "        result = []\n",
    "    print(id(result))\n",
    "    result.append(value)\n",
    "    return result\n",
    "\n",
    "print(return_list(4))  # [4]\n",
    "print(return_list(5))  # [5]\n",
    "\n",
    "# 함수가 호출될 때마다 생기는 데이터는 자신을 참조하는 변수가 없으면 해제됨.(가비지 컬렉팅)\n",
    "# 함수를 호출해서 새로 생긴 리스트를 a가 가리킴.\n",
    "a = return_list(6)\n",
    "\n",
    "# 함수에서 생성된 리스트를 외부에서 변수로 참조하지 않으므로\n",
    "# 여기서 생긴 리스트는 reference count가 0임을 알고 메모리에서 해제됨.\n",
    "return_list(7)  "
   ]
  },
  {
   "cell_type": "code",
   "execution_count": 16,
   "metadata": {},
   "outputs": [
    {
     "name": "stdout",
     "output_type": "stream",
     "text": [
      "args: ('kde', '24', 'WPS')\n",
      "args: ('jadu', 'female', 'cat')\n",
      "kwargs: {'name': 'kde', 'age': '24', 'cls': 'WPS'}\n",
      "kwargs: {'name': 'jadu', 'gender': 'female', 'speices': 'cat'}\n"
     ]
    }
   ],
   "source": [
    "def print_args(*args):  # tuple type\n",
    "    print(f'args: {args}')\n",
    "    \n",
    "print_args('kde', '24', 'WPS')\n",
    "print_args('jadu', 'female', 'cat')\n",
    "\n",
    "def print_kwargs(**kwargs):  # dictionary type\n",
    "    print(f'kwargs: {kwargs}')\n",
    "    \n",
    "print_kwargs(name='kde', age='24', cls='WPS')\n",
    "print_kwargs(name='jadu', gender='female', speices='cat')\n"
   ]
  },
  {
   "cell_type": "code",
   "execution_count": 18,
   "metadata": {},
   "outputs": [
    {
     "name": "stdout",
     "output_type": "stream",
     "text": [
      "call_func\n"
     ]
    }
   ],
   "source": [
    "def print_message():\n",
    "    print('call_func')\n",
    "\n",
    "def run_function(func):\n",
    "    func()\n",
    "    \n",
    "run_function(print_message)"
   ]
  },
  {
   "cell_type": "code",
   "execution_count": 25,
   "metadata": {},
   "outputs": [
    {
     "name": "stdout",
     "output_type": "stream",
     "text": [
      "show_global_champion: Lux\n",
      "{}\n",
      "{'champion': 'Ahri'}\n",
      "after_change_global_champion: Ahri\n"
     ]
    }
   ],
   "source": [
    "# 전역/지역 스코프\n",
    "\n",
    "champion= 'Lux'\n",
    "\n",
    "def show_global_champion():\n",
    "    print('show_global_champion: {}'.format(champion))\n",
    "\n",
    "def change_global_champion():\n",
    "    # 아래에서 로컬 변수를 만들었기 때문에 여기에서는 로컬 변수를 참조하게 되는데,\n",
    "    # 로컬 변수가 정의되기 전의 상태에서 로컬 변수를 참조하므로 에러 발생.\n",
    "    # print('before_change_global_champion: {}'.format(champion))\n",
    "    print(locals())\n",
    "    champion = 'Ahri'  # 로컬에서 변수가 만들어지면 로컬 전체에서 이 변수를 쓰려고 한다.\n",
    "    print(locals()) # 로컬 변수 출력\n",
    "    print('after_change_global_champion: {}'.format(champion))\n",
    "\n",
    "    \n",
    "show_global_champion()\n",
    "change_global_champion()"
   ]
  },
  {
   "cell_type": "code",
   "execution_count": 26,
   "metadata": {
    "scrolled": false
   },
   "outputs": [
    {
     "data": {
      "text/plain": [
       "{'__name__': '__main__',\n",
       " '__doc__': 'Automatically created module for IPython interactive environment',\n",
       " '__package__': None,\n",
       " '__loader__': None,\n",
       " '__spec__': None,\n",
       " '__builtin__': <module 'builtins' (built-in)>,\n",
       " '__builtins__': <module 'builtins' (built-in)>,\n",
       " '_ih': ['',\n",
       "  '# 함수는 객체.\\ndef abc():\\n    pass\\nprint(abc)',\n",
       "  \"def student(name, age, gender):\\n    return {\\n        'name': name,\\n        'age': age,\\n        'gender': gender\\n    }\\n\\nprint(student('kde','24','female'))\",\n",
       "  \"def student(name, age, gender):\\n    return {\\n        'name': name,\\n        'age': age,\\n        'gender': gender\\n    }\\n\\nprint(student('kde','24','woman'))\",\n",
       "  \"def student(name, age, gender):\\n    return {\\n        'name': name,\\n        'age': age,\\n        'gender': gender\\n    }\\n\\nprint(student('kde','24','woman'))\\n\\ndef student_k(**kwargs):\\n    return {\\n        'name': kwargs.name,\\n        'age': kwargs.age,\\n        'gender': kwargs.gender \\n    }\\n\\nprint(student_k(name='jadu', age='1', gender='woman'))\",\n",
       "  \"def student(name, age, gender):\\n    return {\\n        'name': name,\\n        'age': age,\\n        'gender': gender\\n    }\\n\\nprint(student('kde','24','woman'))\\n\\ndef student_k(**kwargs):\\n    print kwargs\\n    return {\\n        'name': kwargs.name,\\n        'age': kwargs.age,\\n        'gender': kwargs.gender \\n    }\\n\\nprint(student_k(name='jadu', age='1', gender='woman'))\",\n",
       "  \"def student(name, age, gender):\\n    return {\\n        'name': name,\\n        'age': age,\\n        'gender': gender\\n    }\\n\\nprint(student('kde','24','woman'))\\n\\ndef student_k(**kwargs):\\n    print(kwargs)\\n    return {\\n        'name': kwargs.name,\\n        'age': kwargs.age,\\n        'gender': kwargs.gender \\n    }\\n\\nprint(student_k(name='jadu', age='1', gender='woman'))\",\n",
       "  \"def student(name, age, gender):\\n    return {\\n        'name': name,\\n        'age': age,\\n        'gender': gender\\n    }\\n\\nprint(student('kde','24','woman'))\\n\\ndef student_k(**kwargs):\\n    print(kwargs)\\n#     return {\\n#         'name': kwargs.name,\\n#         'age': kwargs.age,\\n#         'gender': kwargs.gender \\n#     }\\n\\nprint(student_k(name='jadu', age='1', gender='woman'))\",\n",
       "  \"def student(name, age, gender):\\n    return {\\n        'name': name,\\n        'age': age,\\n        'gender': gender\\n    }\\n\\nprint(student('kde','24','woman'))\\n\\ndef student_k(name, age, gender):\\n    print(kwargs)\\n    return {\\n        'name': name,\\n        'age': age,\\n        'gender': gender \\n    }\\n\\nprint(student_k(name='jadu', age='1', gender='woman'))\",\n",
       "  \"def student(name, age, gender):\\n    return {\\n        'name': name,\\n        'age': age,\\n        'gender': gender\\n    }\\n\\nprint(student('kde','24','woman'))\\n\\ndef student_k(name, age, gender):\\n    return {\\n        'name': name,\\n        'age': age,\\n        'gender': gender \\n    }\\n\\nprint(student_k(name='jadu', age='1', gender='woman'))\",\n",
       "  \"def student(name, age, gender, cls='WPS'):\\n    return {\\n        'name': name,\\n        'age': age,\\n        'gender': gender,\\n        'cls': cls\\n    }\\n\\nprint(student('kde','24','woman'))\\n\\n\\n# 키워드 인자(함수의 arg가 많아서 순서 지키기 헷갈릴 때 유용.)\\ndef student_k(name, age, gender):\\n    return {\\n        'name': name,\\n        'age': age,\\n        'gender': gender \\n    }\\n\\nprint(student_k(name='jadu', age='1', gender='woman'))\",\n",
       "  '#  기본 매개변수값은 함수가 실행될 때 마다 계산되지 않고, 함수가 정의되는 시점에 계산되어 계속해서 사용된다.\\ndef return_list(value, result=[]):\\n    print(id(value))  # 밖에서 정의된 3의 주소를 가짐.\\n    print(id(result))  # 밖에서 정의된 empty의 주소를 가짐.\\n    result.append(value)\\n    return result\\n\\nempty = []\\nreturn_list(3, empty)\\nprint(empty)',\n",
       "  '#  기본 매개변수값은 함수가 실행될 때 마다 계산되지 않고, 함수가 정의되는 시점에 계산되어 계속해서 사용된다.\\ndef return_list(value, result=[]):\\n    print(id(value))  # 밖에서 정의된 3의 주소를 가짐.\\n    print(id(result))  # 밖에서 정의된 empty의 주소를 가짐.\\n    result.append(value)\\n    return result\\n\\nempty = []\\nreturn_list(3, empty)\\nprint(empty)\\n\\nprint(return_list(4))\\nprint(return_list(5))',\n",
       "  'def return_list(value, result=[]):\\n    print(id(value))  # 밖에서 정의된 3의 주소를 가짐.\\n    print(id(result))  # 밖에서 정의된 empty의 주소를 가짐.\\n    result.append(value)\\n    return result\\n\\nempty = []\\nreturn_list(3, empty)\\nprint(empty)\\n\\n# 기본 매개변수값은 함수가 실행될 때 마다 계산되지 않고, \\n# 함수가 정의되는 시점에 계산되어 계속해서 사용된다.\\nprint(return_list(4))\\nprint(return_list(5))  ',\n",
       "  '# 함수가 실행될 때마다 기본 매개변수에 새로운 값을 넣으려면 아래와 같이.\\ndef return_list(value, result=None):\\n    if result is None:\\n        result = []\\n    print(id(result))\\n    result.append(value)\\n    return result\\n\\nprint(return_list(4))  # [4]\\nprint(return_list(5))  # [5]',\n",
       "  \"def print_args(*args):\\n    print(f'args: {args}')\\n    \\nprint_args(name='kde', age='24', cls='WPS')\\nprint_args(name='jadu', gender='female', species='cat')\\n\\ndef print_kwargs(**kwargs):\\n    print(f'kwargs: {kwargs}')\\n    \\nprint_kwargs(name='kde', age='24', cls='WPS')\\nprint_kwargs(name='jadu', gender='female', speices='cat')\",\n",
       "  \"def print_args(*args):\\n    print(f'args: {args}')\\n    \\nprint_args('kde', '24', 'WPS')\\nprint_args('jadu', 'female', 'cat')\\n\\ndef print_kwargs(**kwargs):\\n    print(f'kwargs: {kwargs}')\\n    \\nprint_kwargs(name='kde', age='24', cls='WPS')\\nprint_kwargs(name='jadu', gender='female', speices='cat')\",\n",
       "  \"def print_call_func():\\n    print('call_func')\\n\\ndef call_func(func):\\n    func()\\n    \\ncall_func(print_call_func)\",\n",
       "  \"def print_message():\\n    print('call_func')\\n\\ndef run_function(func):\\n    func()\\n    \\nrun_function(print_message)\",\n",
       "  \"# 전역/지역 스코프\\n\\ndef show_global_champion():\\n    print('show_global_champion: {}'.format(champion))\\n\\ndef change_global_champion():\\n    print('before_change_global_champion: {}'.format(champion))\\n    champion = 'Ahri'\\n    print('after_change_global_champion: {}'.format(champion))\\n\\n    \\nshow_global_champion()\\nchange_global_champion()\",\n",
       "  \"# 전역/지역 스코프\\n\\nchampion= 'Lux'\\n\\ndef show_global_champion():\\n    print('show_global_champion: {}'.format(champion))\\n\\ndef change_global_champion():\\n    print('before_change_global_champion: {}'.format(champion))\\n    champion = 'Ahri'\\n    print('after_change_global_champion: {}'.format(champion))\\n\\n    \\nshow_global_champion()\\nchange_global_champion()\",\n",
       "  \"# 전역/지역 스코프\\n\\nchampion= 'Lux'\\n\\ndef show_global_champion():\\n    print('show_global_champion: {}'.format(champion))\\n\\ndef change_global_champion():\\n    print('before_change_global_champion: {}'.format(champion))\\n#     champion = 'Ahri'\\n#     print('after_change_global_champion: {}'.format(champion))\\n\\n    \\nshow_global_champion()\\nchange_global_champion()\",\n",
       "  \"# 전역/지역 스코프\\n\\nchampion= 'Lux'\\n\\ndef show_global_champion():\\n    print('show_global_champion: {}'.format(champion))\\n\\ndef change_global_champion():\\n    print('before_change_global_champion: {}'.format(champion))\\n    global champion\\n    champion = 'Ahri'\\n    print('after_change_global_champion: {}'.format(champion))\\n\\n    \\nshow_global_champion()\\nchange_global_champion()\",\n",
       "  \"# 전역/지역 스코프\\n\\nchampion= 'Lux'\\n\\ndef show_global_champion():\\n    print('show_global_champion: {}'.format(champion))\\n\\ndef change_global_champion():\\n    print('before_change_global_champion: {}'.format(champion))\\n    champion = 'Ahri'\\n    print('after_change_global_champion: {}'.format(champion))\\n\\n    \\nshow_global_champion()\\nchange_global_champion()\",\n",
       "  \"# 전역/지역 스코프\\n\\nchampion= 'Lux'\\n\\ndef show_global_champion():\\n    print('show_global_champion: {}'.format(champion))\\n\\ndef change_global_champion():\\n    # 아래에서 로컬 변수를 만들었기 때문에 여기에서는 로컬 변수를 참조하게 되는데,\\n    # 로컬 변수가 정의되기 전의 상태에서 로컬 변수를 참조하므로 에러 발생.\\n    print(locals())\\n    print('before_change_global_champion: {}'.format(champion))\\n    champion = 'Ahri'  # 로컬에서 변수가 만들어지면 로컬 전체에서 이 변수를 쓰려고 한다.\\n    print(locals())\\n    print('after_change_global_champion: {}'.format(champion))\\n\\n    \\nshow_global_champion()\\nchange_global_champion()\",\n",
       "  \"# 전역/지역 스코프\\n\\nchampion= 'Lux'\\n\\ndef show_global_champion():\\n    print('show_global_champion: {}'.format(champion))\\n\\ndef change_global_champion():\\n    # 아래에서 로컬 변수를 만들었기 때문에 여기에서는 로컬 변수를 참조하게 되는데,\\n    # 로컬 변수가 정의되기 전의 상태에서 로컬 변수를 참조하므로 에러 발생.\\n    print(locals())\\n#     print('before_change_global_champion: {}'.format(champion))\\n    champion = 'Ahri'  # 로컬에서 변수가 만들어지면 로컬 전체에서 이 변수를 쓰려고 한다.\\n    print(locals())\\n    print('after_change_global_champion: {}'.format(champion))\\n\\n    \\nshow_global_champion()\\nchange_global_champion()\",\n",
       "  'locals()'],\n",
       " '_oh': {},\n",
       " '_dh': ['/Users/rgplocaladm/Desktop/Learn-in-FastCampus/python'],\n",
       " 'In': ['',\n",
       "  '# 함수는 객체.\\ndef abc():\\n    pass\\nprint(abc)',\n",
       "  \"def student(name, age, gender):\\n    return {\\n        'name': name,\\n        'age': age,\\n        'gender': gender\\n    }\\n\\nprint(student('kde','24','female'))\",\n",
       "  \"def student(name, age, gender):\\n    return {\\n        'name': name,\\n        'age': age,\\n        'gender': gender\\n    }\\n\\nprint(student('kde','24','woman'))\",\n",
       "  \"def student(name, age, gender):\\n    return {\\n        'name': name,\\n        'age': age,\\n        'gender': gender\\n    }\\n\\nprint(student('kde','24','woman'))\\n\\ndef student_k(**kwargs):\\n    return {\\n        'name': kwargs.name,\\n        'age': kwargs.age,\\n        'gender': kwargs.gender \\n    }\\n\\nprint(student_k(name='jadu', age='1', gender='woman'))\",\n",
       "  \"def student(name, age, gender):\\n    return {\\n        'name': name,\\n        'age': age,\\n        'gender': gender\\n    }\\n\\nprint(student('kde','24','woman'))\\n\\ndef student_k(**kwargs):\\n    print kwargs\\n    return {\\n        'name': kwargs.name,\\n        'age': kwargs.age,\\n        'gender': kwargs.gender \\n    }\\n\\nprint(student_k(name='jadu', age='1', gender='woman'))\",\n",
       "  \"def student(name, age, gender):\\n    return {\\n        'name': name,\\n        'age': age,\\n        'gender': gender\\n    }\\n\\nprint(student('kde','24','woman'))\\n\\ndef student_k(**kwargs):\\n    print(kwargs)\\n    return {\\n        'name': kwargs.name,\\n        'age': kwargs.age,\\n        'gender': kwargs.gender \\n    }\\n\\nprint(student_k(name='jadu', age='1', gender='woman'))\",\n",
       "  \"def student(name, age, gender):\\n    return {\\n        'name': name,\\n        'age': age,\\n        'gender': gender\\n    }\\n\\nprint(student('kde','24','woman'))\\n\\ndef student_k(**kwargs):\\n    print(kwargs)\\n#     return {\\n#         'name': kwargs.name,\\n#         'age': kwargs.age,\\n#         'gender': kwargs.gender \\n#     }\\n\\nprint(student_k(name='jadu', age='1', gender='woman'))\",\n",
       "  \"def student(name, age, gender):\\n    return {\\n        'name': name,\\n        'age': age,\\n        'gender': gender\\n    }\\n\\nprint(student('kde','24','woman'))\\n\\ndef student_k(name, age, gender):\\n    print(kwargs)\\n    return {\\n        'name': name,\\n        'age': age,\\n        'gender': gender \\n    }\\n\\nprint(student_k(name='jadu', age='1', gender='woman'))\",\n",
       "  \"def student(name, age, gender):\\n    return {\\n        'name': name,\\n        'age': age,\\n        'gender': gender\\n    }\\n\\nprint(student('kde','24','woman'))\\n\\ndef student_k(name, age, gender):\\n    return {\\n        'name': name,\\n        'age': age,\\n        'gender': gender \\n    }\\n\\nprint(student_k(name='jadu', age='1', gender='woman'))\",\n",
       "  \"def student(name, age, gender, cls='WPS'):\\n    return {\\n        'name': name,\\n        'age': age,\\n        'gender': gender,\\n        'cls': cls\\n    }\\n\\nprint(student('kde','24','woman'))\\n\\n\\n# 키워드 인자(함수의 arg가 많아서 순서 지키기 헷갈릴 때 유용.)\\ndef student_k(name, age, gender):\\n    return {\\n        'name': name,\\n        'age': age,\\n        'gender': gender \\n    }\\n\\nprint(student_k(name='jadu', age='1', gender='woman'))\",\n",
       "  '#  기본 매개변수값은 함수가 실행될 때 마다 계산되지 않고, 함수가 정의되는 시점에 계산되어 계속해서 사용된다.\\ndef return_list(value, result=[]):\\n    print(id(value))  # 밖에서 정의된 3의 주소를 가짐.\\n    print(id(result))  # 밖에서 정의된 empty의 주소를 가짐.\\n    result.append(value)\\n    return result\\n\\nempty = []\\nreturn_list(3, empty)\\nprint(empty)',\n",
       "  '#  기본 매개변수값은 함수가 실행될 때 마다 계산되지 않고, 함수가 정의되는 시점에 계산되어 계속해서 사용된다.\\ndef return_list(value, result=[]):\\n    print(id(value))  # 밖에서 정의된 3의 주소를 가짐.\\n    print(id(result))  # 밖에서 정의된 empty의 주소를 가짐.\\n    result.append(value)\\n    return result\\n\\nempty = []\\nreturn_list(3, empty)\\nprint(empty)\\n\\nprint(return_list(4))\\nprint(return_list(5))',\n",
       "  'def return_list(value, result=[]):\\n    print(id(value))  # 밖에서 정의된 3의 주소를 가짐.\\n    print(id(result))  # 밖에서 정의된 empty의 주소를 가짐.\\n    result.append(value)\\n    return result\\n\\nempty = []\\nreturn_list(3, empty)\\nprint(empty)\\n\\n# 기본 매개변수값은 함수가 실행될 때 마다 계산되지 않고, \\n# 함수가 정의되는 시점에 계산되어 계속해서 사용된다.\\nprint(return_list(4))\\nprint(return_list(5))  ',\n",
       "  '# 함수가 실행될 때마다 기본 매개변수에 새로운 값을 넣으려면 아래와 같이.\\ndef return_list(value, result=None):\\n    if result is None:\\n        result = []\\n    print(id(result))\\n    result.append(value)\\n    return result\\n\\nprint(return_list(4))  # [4]\\nprint(return_list(5))  # [5]',\n",
       "  \"def print_args(*args):\\n    print(f'args: {args}')\\n    \\nprint_args(name='kde', age='24', cls='WPS')\\nprint_args(name='jadu', gender='female', species='cat')\\n\\ndef print_kwargs(**kwargs):\\n    print(f'kwargs: {kwargs}')\\n    \\nprint_kwargs(name='kde', age='24', cls='WPS')\\nprint_kwargs(name='jadu', gender='female', speices='cat')\",\n",
       "  \"def print_args(*args):\\n    print(f'args: {args}')\\n    \\nprint_args('kde', '24', 'WPS')\\nprint_args('jadu', 'female', 'cat')\\n\\ndef print_kwargs(**kwargs):\\n    print(f'kwargs: {kwargs}')\\n    \\nprint_kwargs(name='kde', age='24', cls='WPS')\\nprint_kwargs(name='jadu', gender='female', speices='cat')\",\n",
       "  \"def print_call_func():\\n    print('call_func')\\n\\ndef call_func(func):\\n    func()\\n    \\ncall_func(print_call_func)\",\n",
       "  \"def print_message():\\n    print('call_func')\\n\\ndef run_function(func):\\n    func()\\n    \\nrun_function(print_message)\",\n",
       "  \"# 전역/지역 스코프\\n\\ndef show_global_champion():\\n    print('show_global_champion: {}'.format(champion))\\n\\ndef change_global_champion():\\n    print('before_change_global_champion: {}'.format(champion))\\n    champion = 'Ahri'\\n    print('after_change_global_champion: {}'.format(champion))\\n\\n    \\nshow_global_champion()\\nchange_global_champion()\",\n",
       "  \"# 전역/지역 스코프\\n\\nchampion= 'Lux'\\n\\ndef show_global_champion():\\n    print('show_global_champion: {}'.format(champion))\\n\\ndef change_global_champion():\\n    print('before_change_global_champion: {}'.format(champion))\\n    champion = 'Ahri'\\n    print('after_change_global_champion: {}'.format(champion))\\n\\n    \\nshow_global_champion()\\nchange_global_champion()\",\n",
       "  \"# 전역/지역 스코프\\n\\nchampion= 'Lux'\\n\\ndef show_global_champion():\\n    print('show_global_champion: {}'.format(champion))\\n\\ndef change_global_champion():\\n    print('before_change_global_champion: {}'.format(champion))\\n#     champion = 'Ahri'\\n#     print('after_change_global_champion: {}'.format(champion))\\n\\n    \\nshow_global_champion()\\nchange_global_champion()\",\n",
       "  \"# 전역/지역 스코프\\n\\nchampion= 'Lux'\\n\\ndef show_global_champion():\\n    print('show_global_champion: {}'.format(champion))\\n\\ndef change_global_champion():\\n    print('before_change_global_champion: {}'.format(champion))\\n    global champion\\n    champion = 'Ahri'\\n    print('after_change_global_champion: {}'.format(champion))\\n\\n    \\nshow_global_champion()\\nchange_global_champion()\",\n",
       "  \"# 전역/지역 스코프\\n\\nchampion= 'Lux'\\n\\ndef show_global_champion():\\n    print('show_global_champion: {}'.format(champion))\\n\\ndef change_global_champion():\\n    print('before_change_global_champion: {}'.format(champion))\\n    champion = 'Ahri'\\n    print('after_change_global_champion: {}'.format(champion))\\n\\n    \\nshow_global_champion()\\nchange_global_champion()\",\n",
       "  \"# 전역/지역 스코프\\n\\nchampion= 'Lux'\\n\\ndef show_global_champion():\\n    print('show_global_champion: {}'.format(champion))\\n\\ndef change_global_champion():\\n    # 아래에서 로컬 변수를 만들었기 때문에 여기에서는 로컬 변수를 참조하게 되는데,\\n    # 로컬 변수가 정의되기 전의 상태에서 로컬 변수를 참조하므로 에러 발생.\\n    print(locals())\\n    print('before_change_global_champion: {}'.format(champion))\\n    champion = 'Ahri'  # 로컬에서 변수가 만들어지면 로컬 전체에서 이 변수를 쓰려고 한다.\\n    print(locals())\\n    print('after_change_global_champion: {}'.format(champion))\\n\\n    \\nshow_global_champion()\\nchange_global_champion()\",\n",
       "  \"# 전역/지역 스코프\\n\\nchampion= 'Lux'\\n\\ndef show_global_champion():\\n    print('show_global_champion: {}'.format(champion))\\n\\ndef change_global_champion():\\n    # 아래에서 로컬 변수를 만들었기 때문에 여기에서는 로컬 변수를 참조하게 되는데,\\n    # 로컬 변수가 정의되기 전의 상태에서 로컬 변수를 참조하므로 에러 발생.\\n    print(locals())\\n#     print('before_change_global_champion: {}'.format(champion))\\n    champion = 'Ahri'  # 로컬에서 변수가 만들어지면 로컬 전체에서 이 변수를 쓰려고 한다.\\n    print(locals())\\n    print('after_change_global_champion: {}'.format(champion))\\n\\n    \\nshow_global_champion()\\nchange_global_champion()\",\n",
       "  'locals()'],\n",
       " 'Out': {},\n",
       " 'get_ipython': <bound method InteractiveShell.get_ipython of <ipykernel.zmqshell.ZMQInteractiveShell object at 0x10a46d470>>,\n",
       " 'exit': <IPython.core.autocall.ZMQExitAutocall at 0x10a4a99e8>,\n",
       " 'quit': <IPython.core.autocall.ZMQExitAutocall at 0x10a4a99e8>,\n",
       " '_': '',\n",
       " '__': '',\n",
       " '___': '',\n",
       " '_i': \"# 전역/지역 스코프\\n\\nchampion= 'Lux'\\n\\ndef show_global_champion():\\n    print('show_global_champion: {}'.format(champion))\\n\\ndef change_global_champion():\\n    # 아래에서 로컬 변수를 만들었기 때문에 여기에서는 로컬 변수를 참조하게 되는데,\\n    # 로컬 변수가 정의되기 전의 상태에서 로컬 변수를 참조하므로 에러 발생.\\n    print(locals())\\n#     print('before_change_global_champion: {}'.format(champion))\\n    champion = 'Ahri'  # 로컬에서 변수가 만들어지면 로컬 전체에서 이 변수를 쓰려고 한다.\\n    print(locals())\\n    print('after_change_global_champion: {}'.format(champion))\\n\\n    \\nshow_global_champion()\\nchange_global_champion()\",\n",
       " '_ii': \"# 전역/지역 스코프\\n\\nchampion= 'Lux'\\n\\ndef show_global_champion():\\n    print('show_global_champion: {}'.format(champion))\\n\\ndef change_global_champion():\\n    # 아래에서 로컬 변수를 만들었기 때문에 여기에서는 로컬 변수를 참조하게 되는데,\\n    # 로컬 변수가 정의되기 전의 상태에서 로컬 변수를 참조하므로 에러 발생.\\n    print(locals())\\n    print('before_change_global_champion: {}'.format(champion))\\n    champion = 'Ahri'  # 로컬에서 변수가 만들어지면 로컬 전체에서 이 변수를 쓰려고 한다.\\n    print(locals())\\n    print('after_change_global_champion: {}'.format(champion))\\n\\n    \\nshow_global_champion()\\nchange_global_champion()\",\n",
       " '_iii': \"# 전역/지역 스코프\\n\\nchampion= 'Lux'\\n\\ndef show_global_champion():\\n    print('show_global_champion: {}'.format(champion))\\n\\ndef change_global_champion():\\n    print('before_change_global_champion: {}'.format(champion))\\n    champion = 'Ahri'\\n    print('after_change_global_champion: {}'.format(champion))\\n\\n    \\nshow_global_champion()\\nchange_global_champion()\",\n",
       " '_i1': '# 함수는 객체.\\ndef abc():\\n    pass\\nprint(abc)',\n",
       " 'abc': <function __main__.abc()>,\n",
       " '_i2': \"def student(name, age, gender):\\n    return {\\n        'name': name,\\n        'age': age,\\n        'gender': gender\\n    }\\n\\nprint(student('kde','24','female'))\",\n",
       " 'student': <function __main__.student(name, age, gender, cls='WPS')>,\n",
       " '_i3': \"def student(name, age, gender):\\n    return {\\n        'name': name,\\n        'age': age,\\n        'gender': gender\\n    }\\n\\nprint(student('kde','24','woman'))\",\n",
       " '_i4': \"def student(name, age, gender):\\n    return {\\n        'name': name,\\n        'age': age,\\n        'gender': gender\\n    }\\n\\nprint(student('kde','24','woman'))\\n\\ndef student_k(**kwargs):\\n    return {\\n        'name': kwargs.name,\\n        'age': kwargs.age,\\n        'gender': kwargs.gender \\n    }\\n\\nprint(student_k(name='jadu', age='1', gender='woman'))\",\n",
       " 'student_k': <function __main__.student_k(name, age, gender)>,\n",
       " '_i5': \"def student(name, age, gender):\\n    return {\\n        'name': name,\\n        'age': age,\\n        'gender': gender\\n    }\\n\\nprint(student('kde','24','woman'))\\n\\ndef student_k(**kwargs):\\n    print kwargs\\n    return {\\n        'name': kwargs.name,\\n        'age': kwargs.age,\\n        'gender': kwargs.gender \\n    }\\n\\nprint(student_k(name='jadu', age='1', gender='woman'))\",\n",
       " '_i6': \"def student(name, age, gender):\\n    return {\\n        'name': name,\\n        'age': age,\\n        'gender': gender\\n    }\\n\\nprint(student('kde','24','woman'))\\n\\ndef student_k(**kwargs):\\n    print(kwargs)\\n    return {\\n        'name': kwargs.name,\\n        'age': kwargs.age,\\n        'gender': kwargs.gender \\n    }\\n\\nprint(student_k(name='jadu', age='1', gender='woman'))\",\n",
       " '_i7': \"def student(name, age, gender):\\n    return {\\n        'name': name,\\n        'age': age,\\n        'gender': gender\\n    }\\n\\nprint(student('kde','24','woman'))\\n\\ndef student_k(**kwargs):\\n    print(kwargs)\\n#     return {\\n#         'name': kwargs.name,\\n#         'age': kwargs.age,\\n#         'gender': kwargs.gender \\n#     }\\n\\nprint(student_k(name='jadu', age='1', gender='woman'))\",\n",
       " '_i8': \"def student(name, age, gender):\\n    return {\\n        'name': name,\\n        'age': age,\\n        'gender': gender\\n    }\\n\\nprint(student('kde','24','woman'))\\n\\ndef student_k(name, age, gender):\\n    print(kwargs)\\n    return {\\n        'name': name,\\n        'age': age,\\n        'gender': gender \\n    }\\n\\nprint(student_k(name='jadu', age='1', gender='woman'))\",\n",
       " '_i9': \"def student(name, age, gender):\\n    return {\\n        'name': name,\\n        'age': age,\\n        'gender': gender\\n    }\\n\\nprint(student('kde','24','woman'))\\n\\ndef student_k(name, age, gender):\\n    return {\\n        'name': name,\\n        'age': age,\\n        'gender': gender \\n    }\\n\\nprint(student_k(name='jadu', age='1', gender='woman'))\",\n",
       " '_i10': \"def student(name, age, gender, cls='WPS'):\\n    return {\\n        'name': name,\\n        'age': age,\\n        'gender': gender,\\n        'cls': cls\\n    }\\n\\nprint(student('kde','24','woman'))\\n\\n\\n# 키워드 인자(함수의 arg가 많아서 순서 지키기 헷갈릴 때 유용.)\\ndef student_k(name, age, gender):\\n    return {\\n        'name': name,\\n        'age': age,\\n        'gender': gender \\n    }\\n\\nprint(student_k(name='jadu', age='1', gender='woman'))\",\n",
       " '_i11': '#  기본 매개변수값은 함수가 실행될 때 마다 계산되지 않고, 함수가 정의되는 시점에 계산되어 계속해서 사용된다.\\ndef return_list(value, result=[]):\\n    print(id(value))  # 밖에서 정의된 3의 주소를 가짐.\\n    print(id(result))  # 밖에서 정의된 empty의 주소를 가짐.\\n    result.append(value)\\n    return result\\n\\nempty = []\\nreturn_list(3, empty)\\nprint(empty)',\n",
       " 'return_list': <function __main__.return_list(value, result=None)>,\n",
       " 'empty': [3],\n",
       " '_i12': '#  기본 매개변수값은 함수가 실행될 때 마다 계산되지 않고, 함수가 정의되는 시점에 계산되어 계속해서 사용된다.\\ndef return_list(value, result=[]):\\n    print(id(value))  # 밖에서 정의된 3의 주소를 가짐.\\n    print(id(result))  # 밖에서 정의된 empty의 주소를 가짐.\\n    result.append(value)\\n    return result\\n\\nempty = []\\nreturn_list(3, empty)\\nprint(empty)\\n\\nprint(return_list(4))\\nprint(return_list(5))',\n",
       " '_i13': 'def return_list(value, result=[]):\\n    print(id(value))  # 밖에서 정의된 3의 주소를 가짐.\\n    print(id(result))  # 밖에서 정의된 empty의 주소를 가짐.\\n    result.append(value)\\n    return result\\n\\nempty = []\\nreturn_list(3, empty)\\nprint(empty)\\n\\n# 기본 매개변수값은 함수가 실행될 때 마다 계산되지 않고, \\n# 함수가 정의되는 시점에 계산되어 계속해서 사용된다.\\nprint(return_list(4))\\nprint(return_list(5))  ',\n",
       " '_i14': '# 함수가 실행될 때마다 기본 매개변수에 새로운 값을 넣으려면 아래와 같이.\\ndef return_list(value, result=None):\\n    if result is None:\\n        result = []\\n    print(id(result))\\n    result.append(value)\\n    return result\\n\\nprint(return_list(4))  # [4]\\nprint(return_list(5))  # [5]',\n",
       " '_i15': \"def print_args(*args):\\n    print(f'args: {args}')\\n    \\nprint_args(name='kde', age='24', cls='WPS')\\nprint_args(name='jadu', gender='female', species='cat')\\n\\ndef print_kwargs(**kwargs):\\n    print(f'kwargs: {kwargs}')\\n    \\nprint_kwargs(name='kde', age='24', cls='WPS')\\nprint_kwargs(name='jadu', gender='female', speices='cat')\",\n",
       " 'print_args': <function __main__.print_args(*args)>,\n",
       " '_i16': \"def print_args(*args):\\n    print(f'args: {args}')\\n    \\nprint_args('kde', '24', 'WPS')\\nprint_args('jadu', 'female', 'cat')\\n\\ndef print_kwargs(**kwargs):\\n    print(f'kwargs: {kwargs}')\\n    \\nprint_kwargs(name='kde', age='24', cls='WPS')\\nprint_kwargs(name='jadu', gender='female', speices='cat')\",\n",
       " 'print_kwargs': <function __main__.print_kwargs(**kwargs)>,\n",
       " '_i17': \"def print_call_func():\\n    print('call_func')\\n\\ndef call_func(func):\\n    func()\\n    \\ncall_func(print_call_func)\",\n",
       " 'print_call_func': <function __main__.print_call_func()>,\n",
       " 'call_func': <function __main__.call_func(func)>,\n",
       " '_i18': \"def print_message():\\n    print('call_func')\\n\\ndef run_function(func):\\n    func()\\n    \\nrun_function(print_message)\",\n",
       " 'print_message': <function __main__.print_message()>,\n",
       " 'run_function': <function __main__.run_function(func)>,\n",
       " '_i19': \"# 전역/지역 스코프\\n\\ndef show_global_champion():\\n    print('show_global_champion: {}'.format(champion))\\n\\ndef change_global_champion():\\n    print('before_change_global_champion: {}'.format(champion))\\n    champion = 'Ahri'\\n    print('after_change_global_champion: {}'.format(champion))\\n\\n    \\nshow_global_champion()\\nchange_global_champion()\",\n",
       " 'show_global_champion': <function __main__.show_global_champion()>,\n",
       " 'change_global_champion': <function __main__.change_global_champion()>,\n",
       " '_i20': \"# 전역/지역 스코프\\n\\nchampion= 'Lux'\\n\\ndef show_global_champion():\\n    print('show_global_champion: {}'.format(champion))\\n\\ndef change_global_champion():\\n    print('before_change_global_champion: {}'.format(champion))\\n    champion = 'Ahri'\\n    print('after_change_global_champion: {}'.format(champion))\\n\\n    \\nshow_global_champion()\\nchange_global_champion()\",\n",
       " 'champion': 'Lux',\n",
       " '_i21': \"# 전역/지역 스코프\\n\\nchampion= 'Lux'\\n\\ndef show_global_champion():\\n    print('show_global_champion: {}'.format(champion))\\n\\ndef change_global_champion():\\n    print('before_change_global_champion: {}'.format(champion))\\n#     champion = 'Ahri'\\n#     print('after_change_global_champion: {}'.format(champion))\\n\\n    \\nshow_global_champion()\\nchange_global_champion()\",\n",
       " '_i22': \"# 전역/지역 스코프\\n\\nchampion= 'Lux'\\n\\ndef show_global_champion():\\n    print('show_global_champion: {}'.format(champion))\\n\\ndef change_global_champion():\\n    print('before_change_global_champion: {}'.format(champion))\\n    global champion\\n    champion = 'Ahri'\\n    print('after_change_global_champion: {}'.format(champion))\\n\\n    \\nshow_global_champion()\\nchange_global_champion()\",\n",
       " '_i23': \"# 전역/지역 스코프\\n\\nchampion= 'Lux'\\n\\ndef show_global_champion():\\n    print('show_global_champion: {}'.format(champion))\\n\\ndef change_global_champion():\\n    print('before_change_global_champion: {}'.format(champion))\\n    champion = 'Ahri'\\n    print('after_change_global_champion: {}'.format(champion))\\n\\n    \\nshow_global_champion()\\nchange_global_champion()\",\n",
       " '_i24': \"# 전역/지역 스코프\\n\\nchampion= 'Lux'\\n\\ndef show_global_champion():\\n    print('show_global_champion: {}'.format(champion))\\n\\ndef change_global_champion():\\n    # 아래에서 로컬 변수를 만들었기 때문에 여기에서는 로컬 변수를 참조하게 되는데,\\n    # 로컬 변수가 정의되기 전의 상태에서 로컬 변수를 참조하므로 에러 발생.\\n    print(locals())\\n    print('before_change_global_champion: {}'.format(champion))\\n    champion = 'Ahri'  # 로컬에서 변수가 만들어지면 로컬 전체에서 이 변수를 쓰려고 한다.\\n    print(locals())\\n    print('after_change_global_champion: {}'.format(champion))\\n\\n    \\nshow_global_champion()\\nchange_global_champion()\",\n",
       " '_i25': \"# 전역/지역 스코프\\n\\nchampion= 'Lux'\\n\\ndef show_global_champion():\\n    print('show_global_champion: {}'.format(champion))\\n\\ndef change_global_champion():\\n    # 아래에서 로컬 변수를 만들었기 때문에 여기에서는 로컬 변수를 참조하게 되는데,\\n    # 로컬 변수가 정의되기 전의 상태에서 로컬 변수를 참조하므로 에러 발생.\\n    print(locals())\\n#     print('before_change_global_champion: {}'.format(champion))\\n    champion = 'Ahri'  # 로컬에서 변수가 만들어지면 로컬 전체에서 이 변수를 쓰려고 한다.\\n    print(locals())\\n    print('after_change_global_champion: {}'.format(champion))\\n\\n    \\nshow_global_champion()\\nchange_global_champion()\",\n",
       " '_i26': 'locals()'}"
      ]
     },
     "execution_count": 26,
     "metadata": {},
     "output_type": "execute_result"
    }
   ],
   "source": [
    "locals() "
   ]
  },
  {
   "cell_type": "code",
   "execution_count": 27,
   "metadata": {},
   "outputs": [
    {
     "data": {
      "text/plain": [
       "['ArithmeticError',\n",
       " 'AssertionError',\n",
       " 'AttributeError',\n",
       " 'BaseException',\n",
       " 'BlockingIOError',\n",
       " 'BrokenPipeError',\n",
       " 'BufferError',\n",
       " 'BytesWarning',\n",
       " 'ChildProcessError',\n",
       " 'ConnectionAbortedError',\n",
       " 'ConnectionError',\n",
       " 'ConnectionRefusedError',\n",
       " 'ConnectionResetError',\n",
       " 'DeprecationWarning',\n",
       " 'EOFError',\n",
       " 'Ellipsis',\n",
       " 'EnvironmentError',\n",
       " 'Exception',\n",
       " 'False',\n",
       " 'FileExistsError',\n",
       " 'FileNotFoundError',\n",
       " 'FloatingPointError',\n",
       " 'FutureWarning',\n",
       " 'GeneratorExit',\n",
       " 'IOError',\n",
       " 'ImportError',\n",
       " 'ImportWarning',\n",
       " 'IndentationError',\n",
       " 'IndexError',\n",
       " 'InterruptedError',\n",
       " 'IsADirectoryError',\n",
       " 'KeyError',\n",
       " 'KeyboardInterrupt',\n",
       " 'LookupError',\n",
       " 'MemoryError',\n",
       " 'ModuleNotFoundError',\n",
       " 'NameError',\n",
       " 'None',\n",
       " 'NotADirectoryError',\n",
       " 'NotImplemented',\n",
       " 'NotImplementedError',\n",
       " 'OSError',\n",
       " 'OverflowError',\n",
       " 'PendingDeprecationWarning',\n",
       " 'PermissionError',\n",
       " 'ProcessLookupError',\n",
       " 'RecursionError',\n",
       " 'ReferenceError',\n",
       " 'ResourceWarning',\n",
       " 'RuntimeError',\n",
       " 'RuntimeWarning',\n",
       " 'StopAsyncIteration',\n",
       " 'StopIteration',\n",
       " 'SyntaxError',\n",
       " 'SyntaxWarning',\n",
       " 'SystemError',\n",
       " 'SystemExit',\n",
       " 'TabError',\n",
       " 'TimeoutError',\n",
       " 'True',\n",
       " 'TypeError',\n",
       " 'UnboundLocalError',\n",
       " 'UnicodeDecodeError',\n",
       " 'UnicodeEncodeError',\n",
       " 'UnicodeError',\n",
       " 'UnicodeTranslateError',\n",
       " 'UnicodeWarning',\n",
       " 'UserWarning',\n",
       " 'ValueError',\n",
       " 'Warning',\n",
       " 'ZeroDivisionError',\n",
       " '__IPYTHON__',\n",
       " '__build_class__',\n",
       " '__debug__',\n",
       " '__doc__',\n",
       " '__import__',\n",
       " '__loader__',\n",
       " '__name__',\n",
       " '__package__',\n",
       " '__spec__',\n",
       " 'abs',\n",
       " 'all',\n",
       " 'any',\n",
       " 'ascii',\n",
       " 'bin',\n",
       " 'bool',\n",
       " 'bytearray',\n",
       " 'bytes',\n",
       " 'callable',\n",
       " 'chr',\n",
       " 'classmethod',\n",
       " 'compile',\n",
       " 'complex',\n",
       " 'copyright',\n",
       " 'credits',\n",
       " 'delattr',\n",
       " 'dict',\n",
       " 'dir',\n",
       " 'display',\n",
       " 'divmod',\n",
       " 'enumerate',\n",
       " 'eval',\n",
       " 'exec',\n",
       " 'filter',\n",
       " 'float',\n",
       " 'format',\n",
       " 'frozenset',\n",
       " 'get_ipython',\n",
       " 'getattr',\n",
       " 'globals',\n",
       " 'hasattr',\n",
       " 'hash',\n",
       " 'help',\n",
       " 'hex',\n",
       " 'id',\n",
       " 'input',\n",
       " 'int',\n",
       " 'isinstance',\n",
       " 'issubclass',\n",
       " 'iter',\n",
       " 'len',\n",
       " 'license',\n",
       " 'list',\n",
       " 'locals',\n",
       " 'map',\n",
       " 'max',\n",
       " 'memoryview',\n",
       " 'min',\n",
       " 'next',\n",
       " 'object',\n",
       " 'oct',\n",
       " 'open',\n",
       " 'ord',\n",
       " 'pow',\n",
       " 'print',\n",
       " 'property',\n",
       " 'range',\n",
       " 'repr',\n",
       " 'reversed',\n",
       " 'round',\n",
       " 'set',\n",
       " 'setattr',\n",
       " 'slice',\n",
       " 'sorted',\n",
       " 'staticmethod',\n",
       " 'str',\n",
       " 'sum',\n",
       " 'super',\n",
       " 'tuple',\n",
       " 'type',\n",
       " 'vars',\n",
       " 'zip']"
      ]
     },
     "execution_count": 27,
     "metadata": {},
     "output_type": "execute_result"
    }
   ],
   "source": [
    "dir(__builtin__) # 내장함수, 에러객체 출력"
   ]
  },
  {
   "cell_type": "code",
   "execution_count": 29,
   "metadata": {},
   "outputs": [
    {
     "name": "stdout",
     "output_type": "stream",
     "text": [
      "show_global_champion: Ahri\n"
     ]
    }
   ],
   "source": [
    "champion = 'Lux'\n",
    "\n",
    "def change_global_champion():\n",
    "    global champion\n",
    "    champion = 'Ahri'  \n",
    "      \n",
    "change_global_champion()\n",
    "print('show_global_champion: {}'.format(champion))"
   ]
  },
  {
   "cell_type": "code",
   "execution_count": 44,
   "metadata": {},
   "outputs": [
    {
     "name": "stdout",
     "output_type": "stream",
     "text": [
      "global cham: Lux\n",
      "local1 locals(): {'local2': <function local1.<locals>.local2 at 0x10a633620>, 'mvp': 'Widow'}\n",
      "local2 locals(): {'mvp': 'Healer'}\n"
     ]
    }
   ],
   "source": [
    "cham = 'Lux'\n",
    "mvp = 'Tracer'\n",
    "\n",
    "def local1():\n",
    "    global cham\n",
    "    cham = 'Ahri'   \n",
    "    mvp = 'Widow'\n",
    "   \n",
    "    def local2():\n",
    "        global cham  # 전역변수 참조\n",
    "        cham = 'Zariya'\n",
    "        \n",
    "        nonlocal mvp\n",
    "        mvp = 'Healer'\n",
    "        print(f'local2 locals(): {locals()}')  # local2는 전역변수를 참조하므로 로컬에서 갖는 변수는 없음.\n",
    "        \n",
    "    print(f'local1 locals(): {locals()}')  \n",
    "    local2()\n",
    "    \n",
    "print(f'global cham: {cham}')\n",
    "local1()"
   ]
  },
  {
   "cell_type": "code",
   "execution_count": 43,
   "metadata": {},
   "outputs": [
    {
     "name": "stdout",
     "output_type": "stream",
     "text": [
      "4430828080\n",
      "130\n",
      "4430827120\n",
      "100\n",
      "-----------------\n",
      "4430828080\n",
      "130\n",
      "4430828400\n",
      "140\n",
      "4430828400\n",
      "140\n"
     ]
    }
   ],
   "source": [
    "global_level = 100\n",
    "\n",
    "def add_level(value): \n",
    "    value += 30   # value는 지역변수로 새로 만들어짐.\n",
    "    print(id(value))\n",
    "    print(value)  # 130 \n",
    "\n",
    "add_level(global_level)  \n",
    "print(id(global_level))\n",
    "print(global_level)  # 100\n",
    "\n",
    "print('-----------------')\n",
    "def add_level_global():\n",
    "    global global_level\n",
    "    global_level += 30\n",
    "    print(id(global_level))\n",
    "    print(global_level)\n",
    "    \n",
    "    global_level = 140\n",
    "    print(id(global_level))\n",
    "    print(global_level)\n",
    "\n",
    "add_level_global()\n",
    "print(id(global_level))\n",
    "print(global_level)"
   ]
  },
  {
   "cell_type": "code",
   "execution_count": 46,
   "metadata": {},
   "outputs": [
    {
     "name": "stdout",
     "output_type": "stream",
     "text": [
      "4469045064\n",
      "['a']\n",
      "4469045064\n",
      "['a']\n"
     ]
    }
   ],
   "source": [
    "global_list = []\n",
    "\n",
    "def add_list(li):\n",
    "    li.append('a')\n",
    "    print(id(li))\n",
    "    print(li)\n",
    "    \n",
    "add_list(global_list)\n",
    "print(id(global_list))\n",
    "print(global_list)"
   ]
  },
  {
   "cell_type": "code",
   "execution_count": 47,
   "metadata": {},
   "outputs": [],
   "source": [
    "# lambda 함수"
   ]
  },
  {
   "cell_type": "code",
   "execution_count": 49,
   "metadata": {},
   "outputs": [
    {
     "name": "stdout",
     "output_type": "stream",
     "text": [
      "abcdefghiJKLMNOPQRSTUVWXYZ"
     ]
    }
   ],
   "source": [
    "import string\n",
    "\n",
    "for char in string.ascii_lowercase:\n",
    "    if char > 'i':\n",
    "        print(char.upper(), end='')\n",
    "    else:\n",
    "        print(char, end='')"
   ]
  },
  {
   "cell_type": "code",
   "execution_count": 50,
   "metadata": {},
   "outputs": [
    {
     "name": "stdout",
     "output_type": "stream",
     "text": [
      "abcdefghiJKLMNOPQRSTUVWXYZ"
     ]
    }
   ],
   "source": [
    "for char in string.ascii_lowercase:\n",
    "    print((lambda x: x.upper() if x > 'i' else x)(char), end='')"
   ]
  },
  {
   "cell_type": "code",
   "execution_count": 52,
   "metadata": {},
   "outputs": [
    {
     "data": {
      "text/plain": [
       "100"
      ]
     },
     "execution_count": 52,
     "metadata": {},
     "output_type": "execute_result"
    }
   ],
   "source": [
    "# 앞쪽의 람다는 매개변수 2개받음. 1번째는 숫자(x), 2번째는 함수(y).\n",
    "# 1번째 인자를 2번째 변수의 호출인자로 사용. \n",
    "# 람다 함수 뒤에 람다 함수로 넘어갈 인자 있음. (10, 람다함수)\n",
    "# 숫자의 제곱값을 리턴하는 람다 함수를 두번째 인자로 넘김.\n",
    "\n",
    "(lambda x, y: y(x))(10, lambda num: num * num)"
   ]
  },
  {
   "cell_type": "code",
   "execution_count": 56,
   "metadata": {},
   "outputs": [
    {
     "data": {
      "text/plain": [
       "'A'"
      ]
     },
     "execution_count": 56,
     "metadata": {},
     "output_type": "execute_result"
    }
   ],
   "source": [
    "# function에 None이 들어오면 arg의 대문자를 리턴하도록 한다.\n",
    "# 이름을 지정할 필요가 없거나 함수가 한 곳에서 한번만 쓰이는 경우 람다로 정의한다.\n",
    "def do_function(arg, function=lambda value: value.upper()):\n",
    "    return function(arg)\n",
    "    \n",
    "\n",
    "do_function('a')"
   ]
  },
  {
   "cell_type": "code",
   "execution_count": null,
   "metadata": {},
   "outputs": [],
   "source": []
  }
 ],
 "metadata": {
  "kernelspec": {
   "display_name": "Python 3",
   "language": "python",
   "name": "python3"
  },
  "language_info": {
   "codemirror_mode": {
    "name": "ipython",
    "version": 3
   },
   "file_extension": ".py",
   "mimetype": "text/x-python",
   "name": "python",
   "nbconvert_exporter": "python",
   "pygments_lexer": "ipython3",
   "version": "3.6.6"
  }
 },
 "nbformat": 4,
 "nbformat_minor": 2
}
