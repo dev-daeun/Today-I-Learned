{
 "cells": [
  {
   "cell_type": "code",
   "execution_count": 7,
   "metadata": {
    "scrolled": true
   },
   "outputs": [
    {
     "name": "stdout",
     "output_type": "stream",
     "text": [
      "<function outer.<locals>.inner at 0x10f2dbea0>\n",
      "4549623456\n",
      "51\n",
      "52\n",
      "<function outer.<locals>.inner at 0x10f303400>\n",
      "4549784576\n",
      "51\n"
     ]
    }
   ],
   "source": [
    "# 클로저: 함수(inner)의 내부환경 뿐만 아니라 외부환경(outer)도 기억하고 있음.\n",
    "\n",
    "level = 0\n",
    "def outer():\n",
    "    level = 50\n",
    "    \n",
    "    def inner():\n",
    "        nonlocal level\n",
    "        level += 1\n",
    "        print(level)\n",
    "    \n",
    "    return inner\n",
    "\n",
    "f = outer()\n",
    "print(f)\n",
    "print(id(f))\n",
    "\n",
    "f()  # 51\n",
    "f()  # 52 (inner의 nonlocal level을 기억한다.)\n",
    "\n",
    "f = outer()\n",
    "print(f)\n",
    "print(id(f))\n",
    "f()"
   ]
  },
  {
   "cell_type": "markdown",
   "metadata": {},
   "source": [
    "# 데코레이터\n",
    "* 기존 함수의 내용을 변경하지 않고 함수를 받아 다른 함수를 리턴하는 함수."
   ]
  },
  {
   "cell_type": "code",
   "execution_count": 12,
   "metadata": {},
   "outputs": [
    {
     "name": "stdout",
     "output_type": "stream",
     "text": [
      "square input: 4\n",
      "square output: 16\n",
      "multi input: 3 5\n",
      "multi output: 15\n"
     ]
    },
    {
     "data": {
      "text/plain": [
       "15"
      ]
     },
     "execution_count": 12,
     "metadata": {},
     "output_type": "execute_result"
    }
   ],
   "source": [
    "def square(x): \n",
    "    result = x ** 2\n",
    "    print(f\"square input: {x}\")\n",
    "    print(f\"square output: {result}\")\n",
    "    return result\n",
    "\n",
    "def multi(x, y): \n",
    "    result = x * y\n",
    "    print(f\"multi input: {x} {y}\")\n",
    "    print(f\"multi output: {result}\")\n",
    "    return result\n",
    "\n",
    "square(4)\n",
    "multi(3, 5)"
   ]
  },
  {
   "cell_type": "code",
   "execution_count": 18,
   "metadata": {},
   "outputs": [
    {
     "name": "stdout",
     "output_type": "stream",
     "text": [
      "args: (4,)\n",
      "kwargs: {}\n",
      "square input: 4\n",
      "square output: 16\n",
      "16\n",
      "args: (3, 5)\n",
      "kwargs: {}\n",
      "multi input: 3 5\n",
      "multi output: 15\n",
      "15\n"
     ]
    }
   ],
   "source": [
    "# debug 함수\n",
    "# 1. 함수 1개를 파라미터로 받는다. (파라미터 이름은 'f')\n",
    "# 2. 내장함수 wrap를 정의. wrap는 위치인자 묶음과 키워드인자 묶음을 모두 받는다.\n",
    "# 3. wrap함수의 내부에서 'f'를 실행, 결과를 result에 대입한다.\n",
    "# 4. wrap함수는 result를 리턴한다.\n",
    "# 5. debug함수는 wrap함수를 리턴한다.\n",
    "\n",
    "def debug(f):  # debug는 데코레이터. f를 받아서 wrap을 리턴한다.\n",
    "    \n",
    "    def wrap(*args, **kwargs):\n",
    "        print(f'args: {args}')\n",
    "        print(f'kwargs: {kwargs}')\n",
    "        result = f(*args, **kwargs)\n",
    "        return result\n",
    "    \n",
    "    return wrap\n",
    "\n",
    "decorated_sqr = debug(square)  # decorated_sqr가 wrap, square가 f.\n",
    "print(decorated_sqr(4))\n",
    "decorated_mul = debug(multi)\n",
    "print(decorated_mul(3,5))\n",
    "        "
   ]
  },
  {
   "cell_type": "code",
   "execution_count": 20,
   "metadata": {
    "scrolled": true
   },
   "outputs": [
    {
     "name": "stdout",
     "output_type": "stream",
     "text": [
      "args: (4,)\n",
      "kwargs: {}\n",
      "args: (3, 5)\n",
      "kwargs: {}\n"
     ]
    },
    {
     "data": {
      "text/plain": [
       "15"
      ]
     },
     "execution_count": 20,
     "metadata": {},
     "output_type": "execute_result"
    }
   ],
   "source": [
    "# 어떤 함수를 데코레이터 함수로 감싸고 싶을 때는 @함수이름 어노테이션을 쓴다.\n",
    "\n",
    "\n",
    "# debug 함수로 square를 감싸겠다.\n",
    "@debug\n",
    "def square(x): \n",
    "    result = x ** 2\n",
    "    return result\n",
    "\n",
    "@debug\n",
    "def multi(x, y): \n",
    "    result = x * y\n",
    "    return result\n",
    "\n",
    "\n",
    "square(4)\n",
    "multi(3, 5)"
   ]
  },
  {
   "cell_type": "markdown",
   "metadata": {},
   "source": [
    "# 제너레이터"
   ]
  },
  {
   "cell_type": "code",
   "execution_count": 22,
   "metadata": {},
   "outputs": [
    {
     "name": "stdout",
     "output_type": "stream",
     "text": [
      "1\n",
      "2\n",
      "3\n",
      "4\n",
      "5\n",
      "6\n",
      "7\n",
      "8\n",
      "9\n",
      "10\n",
      "1\n",
      "2\n",
      "3\n",
      "4\n",
      "5\n",
      "6\n",
      "7\n",
      "8\n",
      "9\n"
     ]
    }
   ],
   "source": [
    "for i in [1,2,3,4,5,6,7,8,9,10]:\n",
    "    print(i)  # 리스트는 메모리에서 정수 10개 차지.\n",
    "    \n",
    "for i in range(1, 11):\n",
    "    print(i)  # range는 range<function>, 1, 11만 차지.\n",
    "    "
   ]
  },
  {
   "cell_type": "code",
   "execution_count": 27,
   "metadata": {},
   "outputs": [
    {
     "name": "stdout",
     "output_type": "stream",
     "text": [
      "<generator object range_gen at 0x10f377eb8>\n",
      "0\n",
      "1\n",
      "2\n",
      "3\n",
      "4\n",
      "5\n",
      "6\n",
      "7\n",
      "8\n",
      "9\n"
     ]
    }
   ],
   "source": [
    "# range_gen은 제너레이터.\n",
    "def range_gen(num):\n",
    "    i = 0\n",
    "    while i < num:\n",
    "        yield i\n",
    "        i += 1\n",
    "result = range_gen(10)\n",
    "print(result)\n",
    "\n",
    "for element in result:\n",
    "    print(element)\n",
    "\n",
    "# 제너레이터가 위의 for문에서 시퀀스의 끝까지 도달했으므로 더이상 출력할 게 없음.     \n",
    "for element in result:  \n",
    "    print(element)"
   ]
  },
  {
   "cell_type": "code",
   "execution_count": 32,
   "metadata": {},
   "outputs": [
    {
     "name": "stdout",
     "output_type": "stream",
     "text": [
      "0\n",
      "1\n",
      "2\n",
      "3\n",
      "4\n",
      "5\n",
      "6\n",
      "7\n",
      "8\n",
      "9\n"
     ]
    },
    {
     "ename": "StopIteration",
     "evalue": "",
     "output_type": "error",
     "traceback": [
      "\u001b[0;31m---------------------------------------------------------------------------\u001b[0m",
      "\u001b[0;31mStopIteration\u001b[0m                             Traceback (most recent call last)",
      "\u001b[0;32m<ipython-input-32-58c5d32c25e0>\u001b[0m in \u001b[0;36m<module>\u001b[0;34m()\u001b[0m\n\u001b[1;32m     12\u001b[0m \u001b[0mprint\u001b[0m\u001b[0;34m(\u001b[0m\u001b[0mgen\u001b[0m\u001b[0;34m.\u001b[0m\u001b[0m__next__\u001b[0m\u001b[0;34m(\u001b[0m\u001b[0;34m)\u001b[0m\u001b[0;34m)\u001b[0m\u001b[0;34m\u001b[0m\u001b[0m\n\u001b[1;32m     13\u001b[0m \u001b[0mprint\u001b[0m\u001b[0;34m(\u001b[0m\u001b[0mgen\u001b[0m\u001b[0;34m.\u001b[0m\u001b[0m__next__\u001b[0m\u001b[0;34m(\u001b[0m\u001b[0;34m)\u001b[0m\u001b[0;34m)\u001b[0m\u001b[0;34m\u001b[0m\u001b[0m\n\u001b[0;32m---> 14\u001b[0;31m \u001b[0mprint\u001b[0m\u001b[0;34m(\u001b[0m\u001b[0mgen\u001b[0m\u001b[0;34m.\u001b[0m\u001b[0m__next__\u001b[0m\u001b[0;34m(\u001b[0m\u001b[0;34m)\u001b[0m\u001b[0;34m)\u001b[0m  \u001b[0;31m# 이터레이션의 끝까지 도달했으므로 출력할 게 없음.\u001b[0m\u001b[0;34m\u001b[0m\u001b[0m\n\u001b[0m",
      "\u001b[0;31mStopIteration\u001b[0m: "
     ]
    }
   ],
   "source": [
    "gen = range_gen(10)\n",
    "\n",
    "# 제너레이터는 __next__() 메소드를 갖는다.\n",
    "print(gen.__next__())\n",
    "print(next(gen))\n",
    "print(gen.__next__())\n",
    "print(next(gen))\n",
    "print(gen.__next__())\n",
    "print(gen.__next__())\n",
    "print(gen.__next__())\n",
    "print(next(gen))\n",
    "print(gen.__next__())\n",
    "print(gen.__next__())\n",
    "print(gen.__next__())  # 이터레이션의 끝까지 도달했으므로 출력할 게 없음."
   ]
  },
  {
   "cell_type": "code",
   "execution_count": 39,
   "metadata": {},
   "outputs": [
    {
     "data": {
      "text/plain": [
       "'<generator object range_gen at 0x10f377eb8>'"
      ]
     },
     "execution_count": 39,
     "metadata": {},
     "output_type": "execute_result"
    }
   ],
   "source": [
    "# 매직 메소드\n",
    "result.__str__()"
   ]
  },
  {
   "cell_type": "code",
   "execution_count": 38,
   "metadata": {},
   "outputs": [
    {
     "data": {
      "text/plain": [
       "4"
      ]
     },
     "execution_count": 38,
     "metadata": {},
     "output_type": "execute_result"
    }
   ],
   "source": [
    "# 매직 메소드\n",
    "'abcd'.__len__()"
   ]
  },
  {
   "cell_type": "markdown",
   "metadata": {},
   "source": [
    "# 실습"
   ]
  },
  {
   "cell_type": "code",
   "execution_count": 42,
   "metadata": {
    "scrolled": true
   },
   "outputs": [
    {
     "name": "stdout",
     "output_type": "stream",
     "text": [
      "apple\n",
      "I don't know\n"
     ]
    }
   ],
   "source": [
    "# 1번 \n",
    "def get_fruit(color):\n",
    "    \"\"\"\n",
    "    매개변수로 문자열을 받고, \n",
    "    해당 문자열이 red면 apple을, \n",
    "    yellow면 banana를, \n",
    "    green이면 melon을, \n",
    "    어떤 경우도 아닐 경우 I don't know를 리턴합니다.\n",
    "    \"\"\"\n",
    "    dic = {\n",
    "        'red': 'apple',\n",
    "        'yellow': 'banana',\n",
    "        'green': 'melon'\n",
    "    }\n",
    "    return dic.get(color, \"I don't know\")\n",
    "print(get_fruit('red'))\n",
    "print(get_fruit('blue'))"
   ]
  },
  {
   "cell_type": "code",
   "execution_count": 43,
   "metadata": {},
   "outputs": [
    {
     "name": "stdout",
     "output_type": "stream",
     "text": [
      "Help on function get_fruit in module __main__:\n",
      "\n",
      "get_fruit(color)\n",
      "    매개변수로 문자열을 받고, \n",
      "    해당 문자열이 red면 apple을, \n",
      "    yellow면 banana를, \n",
      "    green이면 melon을, \n",
      "    어떤 경우도 아닐 경우 I don't know를 리턴합니다.\n",
      "\n"
     ]
    }
   ],
   "source": [
    "# 2번\n",
    "help(get_fruit)"
   ]
  },
  {
   "cell_type": "code",
   "execution_count": 50,
   "metadata": {},
   "outputs": [
    {
     "name": "stdout",
     "output_type": "stream",
     "text": [
      "16\n",
      "15\n",
      "wrong args\n"
     ]
    }
   ],
   "source": [
    "# 3번\n",
    "\n",
    "def square(x): \n",
    "    result = x ** 2\n",
    "    return result\n",
    "\n",
    "def multi(x, y): \n",
    "    result = x * y\n",
    "    return result\n",
    "\n",
    "def arg_handler(*args):\n",
    "    if len(args) == 1:\n",
    "        return square(*args)\n",
    "    elif len(args) == 2:\n",
    "        return multi(*args)\n",
    "    else:\n",
    "        return 'wrong args'\n",
    "\n",
    "result1 = arg_handler(4)\n",
    "result2 = arg_handler(3,5)\n",
    "result3 =  arg_handler(3,4,5)\n",
    "print(result1)\n",
    "print(result2)\n",
    "print(result3)"
   ]
  },
  {
   "cell_type": "code",
   "execution_count": 72,
   "metadata": {},
   "outputs": [
    {
     "name": "stdout",
     "output_type": "stream",
     "text": [
      "(8, 2)\n"
     ]
    }
   ],
   "source": [
    "# 4번\n",
    "def get_sum_and_diff(x, y):\n",
    "    return x + y, x - y if x > y else y - x\n",
    "\n",
    "print(get_sum_and_diff(3, 5))"
   ]
  },
  {
   "cell_type": "code",
   "execution_count": 53,
   "metadata": {},
   "outputs": [
    {
     "name": "stdout",
     "output_type": "stream",
     "text": [
      "number of args is 9\n"
     ]
    },
    {
     "data": {
      "text/plain": [
       "9"
      ]
     },
     "execution_count": 53,
     "metadata": {},
     "output_type": "execute_result"
    }
   ],
   "source": [
    "# 5번\n",
    "def get_arg_num(*args):\n",
    "    print('number of args is {0}'.format(len(args)))\n",
    "    return len(args)\n",
    "\n",
    "get_arg_num(1,3,4,4,5,6,6,5,4)"
   ]
  },
  {
   "cell_type": "code",
   "execution_count": 76,
   "metadata": {},
   "outputs": [
    {
     "data": {
      "text/plain": [
       "['2 * 1 = 2',\n",
       " '2 * 2 = 4',\n",
       " '2 * 3 = 6',\n",
       " '2 * 4 = 8',\n",
       " '2 * 5 = 10',\n",
       " '2 * 6 = 12',\n",
       " '2 * 7 = 14',\n",
       " '2 * 8 = 16',\n",
       " '2 * 9 = 18',\n",
       " '3 * 1 = 3',\n",
       " '3 * 2 = 6',\n",
       " '3 * 3 = 9',\n",
       " '3 * 4 = 12',\n",
       " '3 * 5 = 15',\n",
       " '3 * 6 = 18',\n",
       " '3 * 7 = 21',\n",
       " '3 * 8 = 24',\n",
       " '3 * 9 = 27',\n",
       " '4 * 1 = 4',\n",
       " '4 * 2 = 8',\n",
       " '4 * 3 = 12',\n",
       " '4 * 4 = 16',\n",
       " '4 * 5 = 20',\n",
       " '4 * 6 = 24',\n",
       " '4 * 7 = 28',\n",
       " '4 * 8 = 32',\n",
       " '4 * 9 = 36',\n",
       " '5 * 1 = 5',\n",
       " '5 * 2 = 10',\n",
       " '5 * 3 = 15',\n",
       " '5 * 4 = 20',\n",
       " '5 * 5 = 25',\n",
       " '5 * 6 = 30',\n",
       " '5 * 7 = 35',\n",
       " '5 * 8 = 40',\n",
       " '5 * 9 = 45',\n",
       " '6 * 1 = 6',\n",
       " '6 * 2 = 12',\n",
       " '6 * 3 = 18',\n",
       " '6 * 4 = 24',\n",
       " '6 * 5 = 30',\n",
       " '6 * 6 = 36',\n",
       " '6 * 7 = 42',\n",
       " '6 * 8 = 48',\n",
       " '6 * 9 = 54',\n",
       " '7 * 1 = 7',\n",
       " '7 * 2 = 14',\n",
       " '7 * 3 = 21',\n",
       " '7 * 4 = 28',\n",
       " '7 * 5 = 35',\n",
       " '7 * 6 = 42',\n",
       " '7 * 7 = 49',\n",
       " '7 * 8 = 56',\n",
       " '7 * 9 = 63',\n",
       " '8 * 1 = 8',\n",
       " '8 * 2 = 16',\n",
       " '8 * 3 = 24',\n",
       " '8 * 4 = 32',\n",
       " '8 * 5 = 40',\n",
       " '8 * 6 = 48',\n",
       " '8 * 7 = 56',\n",
       " '8 * 8 = 64',\n",
       " '8 * 9 = 72',\n",
       " '9 * 1 = 9',\n",
       " '9 * 2 = 18',\n",
       " '9 * 3 = 27',\n",
       " '9 * 4 = 36',\n",
       " '9 * 5 = 45',\n",
       " '9 * 6 = 54',\n",
       " '9 * 7 = 63',\n",
       " '9 * 8 = 72',\n",
       " '9 * 9 = 81']"
      ]
     },
     "execution_count": 76,
     "metadata": {},
     "output_type": "execute_result"
    }
   ],
   "source": [
    "# 6번\n",
    "\n",
    "[(lambda num, mul: f'{num} * {mul} = {num * mul}')(num, mul)\n",
    "     for num in range(2, 10)\n",
    "         for mul in range(1, 10)\n",
    "]"
   ]
  },
  {
   "cell_type": "code",
   "execution_count": 77,
   "metadata": {},
   "outputs": [
    {
     "data": {
      "text/plain": [
       "3"
      ]
     },
     "execution_count": 77,
     "metadata": {},
     "output_type": "execute_result"
    }
   ],
   "source": [
    "def sequential_search(str_, key):\n",
    "    answer = -1\n",
    "    index = 0\n",
    "    while index < len(str_):\n",
    "        if str_[index] == key:\n",
    "            answer = index\n",
    "            break\n",
    "        else:\n",
    "            index += 1\n",
    "    return answer\n",
    "\n",
    "sequential_search('abcdefdgsdg', 'd')\n"
   ]
  },
  {
   "cell_type": "code",
   "execution_count": 87,
   "metadata": {},
   "outputs": [
    {
     "name": "stdout",
     "output_type": "stream",
     "text": [
      "[4, 1, 5, 3, 2]\n",
      "[4, 1, 5, 3, 2]\n",
      "[4, 1, 5, 3, 2]\n",
      "[4, 1, 5, 3, 2]\n",
      "[4, 1, 5, 3, 2]\n",
      "[4, 1, 5, 3, 2]\n",
      "[4, 1, 5, 3, 2]\n"
     ]
    }
   ],
   "source": [
    "def selection_sort(li):\n",
    "    index = 0\n",
    "    while index < len(li)-1:\n",
    "        min_ = li[index]\n",
    "        for element in li[index+1:]:\n",
    "            if min_ > element:\n",
    "                li[li.index(min_)] = element\n",
    "                li[li.index(element)] = min_\n",
    "                print(li)\n",
    "            else:\n",
    "                pass\n",
    "        index += 1\n",
    "    return li\n",
    "print(selection_sort([4,1,5,3,2]))"
   ]
  },
  {
   "cell_type": "code",
   "execution_count": 90,
   "metadata": {},
   "outputs": [
    {
     "name": "stdout",
     "output_type": "stream",
     "text": [
      "[1, 4, 3, 5, 6, 2, 7]\n",
      "[1, 3, 4, 5, 6, 2, 7]\n",
      "[1, 2, 4, 5, 6, 3, 7]\n",
      "[1, 2, 3, 5, 6, 4, 7]\n",
      "[1, 2, 3, 4, 6, 5, 7]\n",
      "[1, 2, 3, 4, 5, 6, 7]\n"
     ]
    }
   ],
   "source": [
    "def selection_sort(li):\n",
    "    for i in range(0, len(li) - 1):\n",
    "        for j in range(i + 1, len(li)):\n",
    "            if li[i] > li[j]:\n",
    "                li[i], li[j] = li[j], li[i]\n",
    "                print(li)\n",
    "                \n",
    "selection_sort([3,4,1,5,6,2,7])"
   ]
  },
  {
   "cell_type": "code",
   "execution_count": null,
   "metadata": {},
   "outputs": [],
   "source": []
  }
 ],
 "metadata": {
  "kernelspec": {
   "display_name": "Python 3",
   "language": "python",
   "name": "python3"
  },
  "language_info": {
   "codemirror_mode": {
    "name": "ipython",
    "version": 3
   },
   "file_extension": ".py",
   "mimetype": "text/x-python",
   "name": "python",
   "nbconvert_exporter": "python",
   "pygments_lexer": "ipython3",
   "version": "3.6.6"
  }
 },
 "nbformat": 4,
 "nbformat_minor": 1
}
