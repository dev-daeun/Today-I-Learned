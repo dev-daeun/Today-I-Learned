{
 "cells": [
  {
   "cell_type": "markdown",
   "metadata": {},
   "source": [
    "# 예외처리"
   ]
  },
  {
   "cell_type": "code",
   "execution_count": 2,
   "metadata": {},
   "outputs": [
    {
     "name": "stdout",
     "output_type": "stream",
     "text": [
      "IndexError occured.\n"
     ]
    }
   ],
   "source": [
    "try:\n",
    "    li = [1,2,3,4,5]\n",
    "    print(li[7])\n",
    "except IndexError:\n",
    "    print(\"IndexError occured.\")"
   ]
  },
  {
   "cell_type": "code",
   "execution_count": 4,
   "metadata": {},
   "outputs": [
    {
     "name": "stdout",
     "output_type": "stream",
     "text": [
      "KeyError occured.\n"
     ]
    }
   ],
   "source": [
    "try:\n",
    "    li = [1,2,3,4,5]\n",
    "    print(li[7]) \n",
    "    dic = {\n",
    "        \"a\": 1,\n",
    "        \"b\": 2\n",
    "    }\n",
    "    print(dic[\"c\"])\n",
    "except IndexError:\n",
    "    print(\"IndexError occured.\")\n",
    "except KeyError:\n",
    "    print(\"KeyError occured.\")"
   ]
  },
  {
   "cell_type": "code",
   "execution_count": 13,
   "metadata": {},
   "outputs": [
    {
     "name": "stdout",
     "output_type": "stream",
     "text": [
      "given arg should be integer.(given: <class 'str'>, value: this is str.)\n",
      "program terminated by err.\n",
      "----------- end -------------\n"
     ]
    }
   ],
   "source": [
    "class NotIntegerException(Exception):\n",
    "    def __init__(self, arg):\n",
    "        self.arg = arg\n",
    "        \n",
    "    def __str__(self):\n",
    "        return f\"given arg should be integer.(given: {type(self.arg)}, value: {self.arg})\"\n",
    "    \n",
    "\n",
    "def sqr(x):\n",
    "    if not isinstance(x, int):\n",
    "        raise NotIntegerException(x)\n",
    "    return x ** 2\n",
    "\n",
    "\n",
    "try:\n",
    "    sqr(\"this is str.\")\n",
    "except NotIntegerException as e:\n",
    "    print(str(e))\n",
    "    print(\"program terminated by err.\")\n",
    "else:\n",
    "    print(\"program executed successfully.\")\n",
    "finally:\n",
    "    print(\"----------- end -------------\")"
   ]
  },
  {
   "cell_type": "code",
   "execution_count": null,
   "metadata": {},
   "outputs": [],
   "source": []
  },
  {
   "cell_type": "code",
   "execution_count": null,
   "metadata": {},
   "outputs": [],
   "source": []
  }
 ],
 "metadata": {
  "kernelspec": {
   "display_name": "Python 3",
   "language": "python",
   "name": "python3"
  },
  "language_info": {
   "codemirror_mode": {
    "name": "ipython",
    "version": 3
   },
   "file_extension": ".py",
   "mimetype": "text/x-python",
   "name": "python",
   "nbconvert_exporter": "python",
   "pygments_lexer": "ipython3",
   "version": "3.6.6"
  }
 },
 "nbformat": 4,
 "nbformat_minor": 2
}
