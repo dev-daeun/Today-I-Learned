{
 "cells": [
  {
   "cell_type": "code",
   "execution_count": 2,
   "metadata": {},
   "outputs": [],
   "source": [
    "def deco(func):\n",
    "    def inner():\n",
    "        print 'running inner()'\n",
    "    return inner\n",
    "\n",
    "@deco\n",
    "def target():\n",
    "    print 'running target()'"
   ]
  },
  {
   "cell_type": "code",
   "execution_count": 3,
   "metadata": {},
   "outputs": [
    {
     "name": "stdout",
     "output_type": "stream",
     "text": [
      "running inner()\n"
     ]
    }
   ],
   "source": [
    "target()  # 데코레이트된 함수 target()을 호출하면 inner()를 실행한다."
   ]
  },
  {
   "cell_type": "code",
   "execution_count": 4,
   "metadata": {},
   "outputs": [
    {
     "data": {
      "text/plain": [
       "<function __main__.inner>"
      ]
     },
     "execution_count": 4,
     "metadata": {},
     "output_type": "execute_result"
    }
   ],
   "source": [
    "target  # target 함수는 inner함수를 가리키고 있다."
   ]
  },
  {
   "cell_type": "markdown",
   "metadata": {},
   "source": [
    "데코레이터는 데코레이트된 함수를 다른 함수로 대체할 수 있다."
   ]
  },
  {
   "cell_type": "markdown",
   "metadata": {},
   "source": [
    "### 파이썬이 데코레이터를 실행하는 시점"
   ]
  },
  {
   "cell_type": "markdown",
   "metadata": {},
   "source": [
    "데코레이터의 핵심 특징은 데코레이트된 함수가 정의된 직후에 바로 실행된다는 점이다.\n",
    "이는 파이썬이 모듈을 로딩하는 시점, 즉 import 타임에 실행된다."
   ]
  },
  {
   "cell_type": "code",
   "execution_count": 14,
   "metadata": {},
   "outputs": [
    {
     "name": "stdout",
     "output_type": "stream",
     "text": [
      "running register. paramter is <function func1 at 0x7fd17743e398>\n",
      "running register. paramter is <function func2 at 0x7fd17743e6e0>\n",
      "running main()\n",
      "registry: [<function func1 at 0x7fd17743e398>, <function func2 at 0x7fd17743e6e0>]\n",
      "running func1()\n",
      "running func2()\n",
      "running func3()\n"
     ]
    }
   ],
   "source": [
    "registry = []\n",
    "def register(func):\n",
    "    print 'running register. paramter is {}'.format(func)\n",
    "    registry.append(func)\n",
    "    return func\n",
    "\n",
    "@register\n",
    "def func1():\n",
    "    print 'running func1()'\n",
    "    \n",
    "@register\n",
    "def func2():\n",
    "    print 'running func2()'\n",
    "    \n",
    "def func3():\n",
    "    print 'running func3()'\n",
    "    \n",
    "def main():\n",
    "    print 'running main()'\n",
    "    print 'registry: {}'.format(registry)\n",
    "    func1()\n",
    "    func2()\n",
    "    func3()\n",
    "\n",
    "if __name__ == '__main__':\n",
    "    main()"
   ]
  },
  {
   "cell_type": "markdown",
   "metadata": {},
   "source": [
    "`register()` 데코레이터는 모듈에서 가장 먼저 실행된다. func1 ~ func3 함수는 `main`에서 명시적으로 호출될 때만 실행된다. <br>\n",
    "위 코드를 `registration.py`모듈에 저장하고 모듈을 로딩하면,"
   ]
  },
  {
   "cell_type": "code",
   "execution_count": 16,
   "metadata": {},
   "outputs": [],
   "source": [
    "import registration"
   ]
  },
  {
   "cell_type": "markdown",
   "metadata": {},
   "source": [
    "running register. paramter is <function func1 at 0x7fd17743e398> <br>\n",
    "running register. paramter is <function func2 at 0x7fd17743e6e0>"
   ]
  },
  {
   "cell_type": "markdown",
   "metadata": {},
   "source": [
    "데코레이터는 모듈이 import 되자마자 실행되지만, 함수는 명시적으로 호출될 때만 실행됨을 알 수 있다.<br>\n",
    "이는 파이썬에서 임포트타임과 런타임을 구분하는 이유이기도 하다. <br>\n",
    "> `register()`의 경우 파라미터로 받은 함수를 그대로 리턴하지만, 보통의 데코레이터는 내부에서 새롭게 정의한 함수를 리턴한다."
   ]
  },
  {
   "cell_type": "markdown",
   "metadata": {},
   "source": [
    "### 변수 범위 규칙"
   ]
  },
  {
   "cell_type": "code",
   "execution_count": 20,
   "metadata": {},
   "outputs": [],
   "source": [
    "b = 6  # 전역변수\n",
    "def test_local_var(a):\n",
    "    print a\n",
    "    print b  # 6을 출력할까?\n",
    "    b = 9\n",
    "    "
   ]
  },
  {
   "cell_type": "code",
   "execution_count": 21,
   "metadata": {},
   "outputs": [
    {
     "name": "stdout",
     "output_type": "stream",
     "text": [
      "3\n"
     ]
    },
    {
     "ename": "UnboundLocalError",
     "evalue": "local variable 'b' referenced before assignment",
     "output_type": "error",
     "traceback": [
      "\u001b[0;31m---------------------------------------------------------------------------\u001b[0m",
      "\u001b[0;31mUnboundLocalError\u001b[0m                         Traceback (most recent call last)",
      "\u001b[0;32m<ipython-input-21-a31bc12e9df6>\u001b[0m in \u001b[0;36m<module>\u001b[0;34m()\u001b[0m\n\u001b[0;32m----> 1\u001b[0;31m \u001b[0mtest_local_var\u001b[0m\u001b[0;34m(\u001b[0m\u001b[0;36m3\u001b[0m\u001b[0;34m)\u001b[0m\u001b[0;34m\u001b[0m\u001b[0m\n\u001b[0m",
      "\u001b[0;32m<ipython-input-20-3aac4624d948>\u001b[0m in \u001b[0;36mtest_local_var\u001b[0;34m(a)\u001b[0m\n\u001b[1;32m      2\u001b[0m \u001b[0;32mdef\u001b[0m \u001b[0mtest_local_var\u001b[0m\u001b[0;34m(\u001b[0m\u001b[0ma\u001b[0m\u001b[0;34m)\u001b[0m\u001b[0;34m:\u001b[0m\u001b[0;34m\u001b[0m\u001b[0m\n\u001b[1;32m      3\u001b[0m     \u001b[0;32mprint\u001b[0m \u001b[0ma\u001b[0m\u001b[0;34m\u001b[0m\u001b[0m\n\u001b[0;32m----> 4\u001b[0;31m     \u001b[0;32mprint\u001b[0m \u001b[0mb\u001b[0m  \u001b[0;31m# 6을 출력할까?\u001b[0m\u001b[0;34m\u001b[0m\u001b[0m\n\u001b[0m\u001b[1;32m      5\u001b[0m     \u001b[0mb\u001b[0m \u001b[0;34m=\u001b[0m \u001b[0;36m9\u001b[0m\u001b[0;34m\u001b[0m\u001b[0m\n\u001b[1;32m      6\u001b[0m \u001b[0;34m\u001b[0m\u001b[0m\n",
      "\u001b[0;31mUnboundLocalError\u001b[0m: local variable 'b' referenced before assignment"
     ]
    }
   ],
   "source": [
    "test_local_var(3)"
   ]
  },
  {
   "cell_type": "markdown",
   "metadata": {},
   "source": [
    "전역변수 `b`가 이미 정의되어 있기 때문에 `test_local_var`에서 6을 출력할 것으로 예상했지만 결과는 `UnboundLocalError`가 발생했다.<br>\n",
    "왜 그럴까?"
   ]
  },
  {
   "cell_type": "code",
   "execution_count": 22,
   "metadata": {},
   "outputs": [
    {
     "name": "stdout",
     "output_type": "stream",
     "text": [
      "  3           0 LOAD_FAST                0 (a)\n",
      "              3 PRINT_ITEM          \n",
      "              4 PRINT_NEWLINE       \n",
      "\n",
      "  4           5 LOAD_FAST                1 (b)\n",
      "              8 PRINT_ITEM          \n",
      "              9 PRINT_NEWLINE       \n",
      "\n",
      "  5          10 LOAD_CONST               1 (9)\n",
      "             13 STORE_FAST               1 (b)\n",
      "             16 LOAD_CONST               0 (None)\n",
      "             19 RETURN_VALUE        \n"
     ]
    }
   ],
   "source": [
    "from dis import dis\n",
    "dis(test_local_var)"
   ]
  },
  {
   "cell_type": "markdown",
   "metadata": {},
   "source": [
    "python3에서 디스어셈블 출력한 결과"
   ]
  },
  {
   "cell_type": "code",
   "execution_count": 24,
   "metadata": {
    "scrolled": true
   },
   "outputs": [
    {
     "ename": "SyntaxError",
     "evalue": "invalid syntax (<ipython-input-24-329d15ace98e>, line 1)",
     "output_type": "error",
     "traceback": [
      "\u001b[0;36m  File \u001b[0;32m\"<ipython-input-24-329d15ace98e>\"\u001b[0;36m, line \u001b[0;32m1\u001b[0m\n\u001b[0;31m    2           0 LOAD_GLOBAL              0 (print)\u001b[0m\n\u001b[0m                ^\u001b[0m\n\u001b[0;31mSyntaxError\u001b[0m\u001b[0;31m:\u001b[0m invalid syntax\n"
     ]
    }
   ],
   "source": [
    "  2           0 LOAD_GLOBAL              0 (print)\n",
    "              2 LOAD_FAST                0 (a)\n",
    "              4 CALL_FUNCTION            1\n",
    "              6 POP_TOP\n",
    "\n",
    "  3           8 LOAD_GLOBAL              0 (print)\n",
    "             10 LOAD_FAST                1 (b)\n",
    "             12 CALL_FUNCTION            1\n",
    "             14 POP_TOP\n",
    "\n",
    "  4          16 LOAD_CONST               1 (6)\n",
    "             18 STORE_FAST               1 (b)\n",
    "             20 LOAD_CONST               0 (None)\n",
    "             22 RETURN_VALUE\n"
   ]
  },
  {
   "cell_type": "markdown",
   "metadata": {},
   "source": [
    "`10    LOAD_FAST`: 지역변수 `b`를 로딩한다. <br>\n",
    "4번의 어셈블리어 코드를 보면 지역변수 `b`을 6으로 정의하는 부분이 나오지만, 컴파일러는 이미 이전에 `b`를 지역변수로 간주하고 있다. "
   ]
  },
  {
   "cell_type": "markdown",
   "metadata": {},
   "source": [
    "### 클로저"
   ]
  },
  {
   "cell_type": "markdown",
   "metadata": {},
   "source": [
    "클로저가 뭔지 알아보기 전에 클래스를 이용해서 예제를 만들어보겠다. <br>\n",
    "아래 예제는 새로운 숫자가 추가 될 때마다 추가된 숫자를 포함하여 숫자들의 평균을 계산한다."
   ]
  },
  {
   "cell_type": "code",
   "execution_count": 32,
   "metadata": {},
   "outputs": [],
   "source": [
    "class Averager():\n",
    "    def __init__(self):\n",
    "        self.series = []\n",
    "        \n",
    "    def __call__(self, new_value):  # 객체를 call할 때 호출되는 함수.\n",
    "        self.series.append(new_value)\n",
    "        total = sum(self.series)\n",
    "        return total // len(self.series)"
   ]
  },
  {
   "cell_type": "code",
   "execution_count": 38,
   "metadata": {},
   "outputs": [
    {
     "name": "stdout",
     "output_type": "stream",
     "text": [
      "10\n",
      "10\n",
      "11\n"
     ]
    }
   ],
   "source": [
    "avg = Averager()\n",
    "print avg(10)\n",
    "print avg(11)\n",
    "print avg(12)\n",
    "# 파이썬2에서는 나누기 결과가 실수일 경우 내림으로 처리."
   ]
  },
  {
   "cell_type": "markdown",
   "metadata": {},
   "source": [
    "다음은 고차함수 `make_averager()`를 이용해서 예제를 구현한 것이다."
   ]
  },
  {
   "cell_type": "code",
   "execution_count": 82,
   "metadata": {},
   "outputs": [],
   "source": [
    "def make_averager():\n",
    "    series = []\n",
    "    def averager(new_value):\n",
    "        series.append(new_value)\n",
    "        total = sum(series)\n",
    "        return total/ len(series)\n",
    "    return averager"
   ]
  },
  {
   "cell_type": "code",
   "execution_count": 83,
   "metadata": {
    "scrolled": false
   },
   "outputs": [
    {
     "name": "stdout",
     "output_type": "stream",
     "text": [
      "10\n",
      "11\n",
      "12\n"
     ]
    }
   ],
   "source": [
    "avg = make_averager()  # make_averager 함수 안의 averager 함수\n",
    "print avg(10)\n",
    "print avg(12)\n",
    "print avg(14)"
   ]
  },
  {
   "cell_type": "markdown",
   "metadata": {},
   "source": [
    "`make_averager()` 함수 안의 `series`는 지역변수이므로 `make_averager`가 호출되고 `averager`를 리턴하고 나면 사라져야 마땅하다. <br>\n",
    "그런데 `make_averager()`가 호출될때마다 이전에 숫자들이 추가된 `series`를 참조하여 숫자들의 평균을 구하게 된다. 왜 그럴까?"
   ]
  },
  {
   "cell_type": "markdown",
   "metadata": {},
   "source": [
    "왜냐하면 `averager()` 안의 `series`는 **자유변수**기 때문이다.<br>\n",
    "**자유변수는 지역범위에 바인딩 되어있지 않은 변수를 뜻한다.**"
   ]
  },
  {
   "cell_type": "markdown",
   "metadata": {},
   "source": [
    "컴파일된 함수를 나타내는 `__code__`속성을 들여다보면 지역변수와 자유변수의 이름들을 알아낼 수 있다."
   ]
  },
  {
   "cell_type": "code",
   "execution_count": 84,
   "metadata": {},
   "outputs": [
    {
     "name": "stdout",
     "output_type": "stream",
     "text": [
      "('new_value', 'total')\n",
      "('series',)\n"
     ]
    }
   ],
   "source": [
    "print avg.__code__.co_varnames  # 지역변수 이름들\n",
    "print avg.__code__.co_freevars    # 자유변수 이름들"
   ]
  },
  {
   "cell_type": "markdown",
   "metadata": {},
   "source": [
    "`series`에 대한 바인딩은 반환된 `averager`함수의 `__closure__`속성에 리스트형태로 저장된다. <br>\n",
    "`__closure__`의 각 엘리먼트는 `cell`객체이며, `cell`객체의 `cell_contents`속성에서 자유변수의 실제 값을 찾을 수 있다. <br>\n",
    "\n",
    "> cells are special references to local variables of a parent scope, that follow the values those local variables point to. https://stackoverflow.com/questions/14413946/what-exactly-is-contained-within-a-obj-closure"
   ]
  },
  {
   "cell_type": "code",
   "execution_count": 85,
   "metadata": {},
   "outputs": [
    {
     "name": "stdout",
     "output_type": "stream",
     "text": [
      "[10, 12, 14]\n"
     ]
    }
   ],
   "source": [
    "print avg.__closure__[0].cell_contents"
   ]
  },
  {
   "cell_type": "markdown",
   "metadata": {},
   "source": [
    "위의 예제에 따르면 **클로저는 어떤 함수안에 정의된 함수며, 어떤 함수를 정의할 때 존재하던 자유변수의 바인딩을 유지해주는 함수라고 할 수 있다.**"
   ]
  },
  {
   "cell_type": "markdown",
   "metadata": {},
   "source": [
    "클로저와 자유변수를 이용하여 `decorate`된 함수를 `undecorate` 해보도록 하겠다. <br>\n",
    "`decorators`모듈의 `check_now_is_in_period`함수는 무조건 `out_of_period`문자열을 리턴하는 데코레이터이며,<br>\n",
    "`is_power_of_two`함수는 파라미터로 들어온 숫자가 2의 n(자연수)제곱에 해당하는 숫자인지 판단한다."
   ]
  },
  {
   "cell_type": "code",
   "execution_count": 28,
   "metadata": {},
   "outputs": [],
   "source": [
    "from datetime import datetime, timedelta\n",
    "from functools import wraps\n",
    "\n",
    "# decorators.py\n",
    "def check_now_is_in_period(func):\n",
    "    def wrapper(*args, **kwargs):\n",
    "            start = datetime.today() - timedelta(days=2)\n",
    "            end = datetime.today() - timedelta(days=1)\n",
    "            if start <= datetime.now() <= end:\n",
    "                return func(*args, **kwargs)\n",
    "            return 'out of period'\n",
    "    return wrapper"
   ]
  },
  {
   "cell_type": "code",
   "execution_count": 30,
   "metadata": {},
   "outputs": [
    {
     "name": "stdout",
     "output_type": "stream",
     "text": [
      "local vars:  ('args', 'kwargs', 'start', 'end')\n",
      "free vars:  ('func',)\n",
      "closure:  (<cell at 0x7f2a702b2830: function object at 0x7f2a7046a410>,)\n",
      "closure's cell content:  <function is_power_of_two at 0x7f2a7046a410>\n",
      "True\n",
      "False\n"
     ]
    }
   ],
   "source": [
    "from inspect import isfunction\n",
    "from decorators import check_now_is_in_period\n",
    "\n",
    "\n",
    "@check_now_is_in_period\n",
    "def is_power_of_two(num):\n",
    "    while(num != 1):\n",
    "        if num % 2 != 0:\n",
    "            return False\n",
    "        num = num // 2\n",
    "    return True\n",
    "\n",
    "\n",
    "def undecorate(func):\n",
    "    if func.__closure__:\n",
    "        for cell in func.__closure__:\n",
    "            if isfunction(cell.cell_contents):\n",
    "                return cell.cell_contents\n",
    "        return func\n",
    "\n",
    "\n",
    "if __name__ == '__main__':\n",
    "    p = is_power_of_two\n",
    "    print 'local vars: ', p.__code__.co_varnames\n",
    "    print 'free vars: ', p.__code__.co_freevars\n",
    "    print 'closure: ', p.__closure__\n",
    "    print \"closure's cell content: \", p.__closure__[0].cell_contents\n",
    "    print undecorate(is_power_of_two)(32)\n",
    "    print undecorate(is_power_of_two)(10)                                             "
   ]
  },
  {
   "cell_type": "markdown",
   "metadata": {},
   "source": [
    "`is_power_of_two`함수는 모듈이 로딩되는 시점에서 이미 `check_now_is_in_period`함수에 의해 `decorate`되었으므로<br>\n",
    "`check_now_is_in_period`함수에서 리턴된 `wrapper`함수와 동일한 지역변수와 자유변수를 갖는다. (동일한 환경을 갖는다.)<br>\n",
    "`wrapper`함수의 `__closure__`에는 parental scope(`check_now_is_in_period`)의 변수(`func`)가 들어있다.<br>\n",
    "따라서 `is_power_of_two`의 `__closure__`에도 `func` 파라미터에 해당하는 `is_power_of_two`, 즉 자기자신을 cell 객체로 가지게 된다. <br><br>\n",
    "`undecorate`함수는 파라미터로 들어오는 함수의 cell객체의 `cell_contents`가 함수일 경우 `cell_contents`를 리턴한다.\n",
    "`is_power_of_two`의 `cell_contents`는 `decorate`되지않은 자기자신이므로 `decorate`되지 않은 `is_power_of_two`를 `undecorate`를 통해 받을 수 있다.<br>\n",
    "따라서 `undecorate(is_power_of_two)(32)`는 `decorate`되지않은 `is_power_of_two`에 숫자 32를 넘겨서 호출하는것과 동일하므로,<br>\n",
    "`out_of_period`문자열이 아닌 `True`를 출력하게 된다."
   ]
  },
  {
   "cell_type": "markdown",
   "metadata": {},
   "source": [
    "### nonlocal 선언"
   ]
  },
  {
   "cell_type": "markdown",
   "metadata": {},
   "source": [
    "아래의 `make_averager`는 잘못 정의되었다. 왜 그럴까?"
   ]
  },
  {
   "cell_type": "code",
   "execution_count": 51,
   "metadata": {},
   "outputs": [],
   "source": [
    "def make_averager():\n",
    "    count = 0\n",
    "    total = 0\n",
    "    def averager(new_value):\n",
    "        count += 1\n",
    "        total += new_value\n",
    "        return total / count\n",
    "    return averager"
   ]
  },
  {
   "cell_type": "code",
   "execution_count": 52,
   "metadata": {},
   "outputs": [
    {
     "ename": "UnboundLocalError",
     "evalue": "local variable 'count' referenced before assignment",
     "output_type": "error",
     "traceback": [
      "\u001b[0;31m---------------------------------------------------------------------------\u001b[0m",
      "\u001b[0;31mUnboundLocalError\u001b[0m                         Traceback (most recent call last)",
      "\u001b[0;32m<ipython-input-52-5bb7e2814731>\u001b[0m in \u001b[0;36m<module>\u001b[0;34m()\u001b[0m\n\u001b[1;32m      1\u001b[0m \u001b[0mavg\u001b[0m \u001b[0;34m=\u001b[0m \u001b[0mmake_averager\u001b[0m\u001b[0;34m(\u001b[0m\u001b[0;34m)\u001b[0m\u001b[0;34m\u001b[0m\u001b[0m\n\u001b[0;32m----> 2\u001b[0;31m \u001b[0;32mprint\u001b[0m \u001b[0mavg\u001b[0m\u001b[0;34m(\u001b[0m\u001b[0;36m10\u001b[0m\u001b[0;34m)\u001b[0m\u001b[0;34m\u001b[0m\u001b[0m\n\u001b[0m",
      "\u001b[0;32m<ipython-input-51-3f2ada1aa04d>\u001b[0m in \u001b[0;36maverager\u001b[0;34m(new_value)\u001b[0m\n\u001b[1;32m      3\u001b[0m     \u001b[0mtotal\u001b[0m \u001b[0;34m=\u001b[0m \u001b[0;36m0\u001b[0m\u001b[0;34m\u001b[0m\u001b[0m\n\u001b[1;32m      4\u001b[0m     \u001b[0;32mdef\u001b[0m \u001b[0maverager\u001b[0m\u001b[0;34m(\u001b[0m\u001b[0mnew_value\u001b[0m\u001b[0;34m)\u001b[0m\u001b[0;34m:\u001b[0m\u001b[0;34m\u001b[0m\u001b[0m\n\u001b[0;32m----> 5\u001b[0;31m         \u001b[0mcount\u001b[0m \u001b[0;34m+=\u001b[0m \u001b[0;36m1\u001b[0m\u001b[0;34m\u001b[0m\u001b[0m\n\u001b[0m\u001b[1;32m      6\u001b[0m         \u001b[0mtotal\u001b[0m \u001b[0;34m+=\u001b[0m \u001b[0mnew_value\u001b[0m\u001b[0;34m\u001b[0m\u001b[0m\n\u001b[1;32m      7\u001b[0m         \u001b[0;32mreturn\u001b[0m \u001b[0mtotal\u001b[0m \u001b[0;34m/\u001b[0m \u001b[0mcount\u001b[0m\u001b[0;34m\u001b[0m\u001b[0m\n",
      "\u001b[0;31mUnboundLocalError\u001b[0m: local variable 'count' referenced before assignment"
     ]
    }
   ],
   "source": [
    "avg = make_averager()\n",
    "print avg(10)"
   ]
  },
  {
   "cell_type": "markdown",
   "metadata": {},
   "source": [
    "`count`가 primitive type의 변수일 때 `count += 1`이 사실상 `count = count + 1`과 동일하기 때문에 문제가 발생한다. <br>\n",
    "컴파일러가 `averager()`함수 내부의 `count`를 지역변수로 간주하기 때문이다. `total`도 마찬가지다. <br>\n",
    "즉, `count`와 `total`은 자유변수가 아니므로 클로저에 저장되지 않는다."
   ]
  },
  {
   "cell_type": "markdown",
   "metadata": {},
   "source": [
    "이전 예제의 `series`경우에는 변수에 새로운 값을 정의하지 않고 `append()`, `len()`과 같이 메소드를 호출했기 때문에 문제가 되지 않았다. <br>\n",
    "리스트가 가변형이라는 사실을 이용했을 뿐이다."
   ]
  },
  {
   "cell_type": "markdown",
   "metadata": {},
   "source": [
    "이 문제를 해결하기 위해 파이썬3은 `nonlocal`선언을 지원한다. <br>\n",
    "`nonlocal`로 변수를 선언하면 함수 안에서 변수에 새로운 값을 할당하더라도 그 변수는 자유변수임을 나타낸다.\n",
    "> 파이썬2는 `nonlocal`을 지원하지 않는 대신 다른 방법을 지원한다. https://www.python.org/dev/peps/pep-3104/ <br>\n",
    "> 자유변수로 의도했던 변수를 가변 객체로 정의해서, 변경하고자 하는 값을 속성으로 갖게 함."
   ]
  },
  {
   "cell_type": "markdown",
   "metadata": {},
   "source": [
    "### 데코레이터 구현하기"
   ]
  },
  {
   "cell_type": "markdown",
   "metadata": {},
   "source": [
    "아래 예제는 데코레이트된 함수를 호출할 때마다 현재시간, 전달된 파라미터, 반환값을 출력한다."
   ]
  },
  {
   "cell_type": "code",
   "execution_count": 71,
   "metadata": {},
   "outputs": [
    {
     "name": "stdout",
     "output_type": "stream",
     "text": [
      "***** calling snooze(.123)\n",
      "[1551005298.99530411s] snooze(0.123) -> None\n",
      "***** calling factorial(10)\n",
      "[1551005298.99597597s] factorial(1) -> 1\n",
      "[1551005298.99613595s] factorial(2) -> 2\n",
      "[1551005298.99628806s] factorial(3) -> 6\n",
      "[1551005298.99642897s] factorial(4) -> 24\n",
      "[1551005298.99736595s] factorial(5) -> 120\n",
      "[1551005298.99793291s] factorial(6) -> 720\n",
      "[1551005298.99808097s] factorial(7) -> 5040\n",
      "[1551005298.99823093s] factorial(8) -> 40320\n",
      "[1551005298.99837303s] factorial(9) -> 362880\n",
      "[1551005298.99863100s] factorial(10) -> 3628800\n"
     ]
    }
   ],
   "source": [
    "def clock(func):\n",
    "    def clocked(*args):\n",
    "        '''this is clocked'''\n",
    "        result = func(*args)  # func은 자유변수\n",
    "        arg_str = ', '.join(repr(arg) for arg in args)\n",
    "        print '[%0.8fs] %s(%s) -> %r' % (time.time(), func.__name__, arg_str, result)\n",
    "        return result\n",
    "    return clocked\n",
    "\n",
    "\n",
    "@clock\n",
    "def snooze(seconds):\n",
    "    time.sleep(seconds)\n",
    "    \n",
    "@clock\n",
    "def factorial(n):\n",
    "    '''this is factorial'''\n",
    "    return 1 if n < 2 else n*factorial(n-1)\n",
    "\n",
    "if __name__ == '__main__':\n",
    "    print '*****', 'calling snooze(.123)'\n",
    "    snooze(.123)\n",
    "    print '*****', 'calling factorial(10)'\n",
    "    factorial(10)"
   ]
  },
  {
   "cell_type": "markdown",
   "metadata": {},
   "source": [
    "위의 예제에서 `snooze`와 `factorial`은 `clock`함수에 의해 decorate되었으므로 `clocked`과 동일한 환경을 갖게 된다.<br>\n",
    "이는 두 함수의 `__name__`과 `__doc__`속성도 `clocked`함수의 것으로 대체시킨다."
   ]
  },
  {
   "cell_type": "code",
   "execution_count": 59,
   "metadata": {},
   "outputs": [
    {
     "name": "stdout",
     "output_type": "stream",
     "text": [
      "clocked\n",
      "this is clocked\n",
      "this is clocked\n"
     ]
    }
   ],
   "source": [
    "print factorial.__name__\n",
    "print factorial.__doc__\n",
    "print clock(factorial).__doc__"
   ]
  },
  {
   "cell_type": "markdown",
   "metadata": {},
   "source": [
    "데코레이터를 위와 같이 구현하면 `decorate`당하는 함수의 `__name__`, `__doc__` 과 같은 속성을 덮어쓸 뿐만 아니라 키워드 인자를 받을 수도 없게 된다.<br>\n",
    "따라서 `functools`의 `wraps`데코레이터를 통해 자유변수로 들어오는 `func`의 속성들을 클로저 함수에 복사할 수 있다."
   ]
  },
  {
   "cell_type": "code",
   "execution_count": 72,
   "metadata": {},
   "outputs": [
    {
     "name": "stdout",
     "output_type": "stream",
     "text": [
      "***** calling factorial(10)\n",
      "[1551005322.98668599s] factorial(1) -> 1\n",
      "[1551005322.98673201s] factorial(2) -> 2\n",
      "[1551005322.98676395s] factorial(3) -> 6\n",
      "[1551005322.98680496s] factorial(4) -> 24\n",
      "[1551005322.98684311s] factorial(5) -> 120\n",
      "[1551005322.98687696s] factorial(6) -> 720\n",
      "[1551005322.98690701s] factorial(7) -> 5040\n",
      "[1551005322.98693895s] factorial(8) -> 40320\n",
      "[1551005322.98697090s] factorial(9) -> 362880\n",
      "[1551005322.98718810s] factorial2() -> 3628800\n",
      "factorial2\n",
      "this is factorial2\n"
     ]
    }
   ],
   "source": [
    "import functools\n",
    "import time\n",
    "\n",
    "def clock2(func):\n",
    "    @functools.wraps(func)\n",
    "    def wrapper(*args, **kwargs):\n",
    "        '''this is wrapper'''\n",
    "        result = func(*args, **kwargs)  # func은 자유변수\n",
    "        arg_str = ', '.join(repr(arg) for arg in args)\n",
    "        print '[%0.8fs] %s(%s) -> %r' % (time.time(), func.__name__, arg_str, result)\n",
    "        return result\n",
    "    return wrapper\n",
    "\n",
    "@clock2\n",
    "def factorial2(n):\n",
    "    '''this is factorial2'''\n",
    "    return 1 if n < 2 else n*factorial(n-1)\n",
    "\n",
    "if __name__ == '__main__':\n",
    "    print '*****', 'calling factorial(10)'\n",
    "    factorial2(n=10)\n",
    "    \n",
    "    print factorial2.__name__\n",
    "    print clock2(factorial2).__doc__"
   ]
  },
  {
   "cell_type": "markdown",
   "metadata": {},
   "source": [
    "### 파라미터를 받는 데코레이터"
   ]
  },
  {
   "cell_type": "markdown",
   "metadata": {},
   "source": [
    "일반적으로 데코레이터는 하나의 함수를 파라미터로 받지만 함수가 아닌 다른 값들을 파라미터로 받게 할 수도 있다."
   ]
  },
  {
   "cell_type": "code",
   "execution_count": 79,
   "metadata": {},
   "outputs": [
    {
     "name": "stdout",
     "output_type": "stream",
     "text": [
      "hi\n",
      "[0.00000000s] print_hi(, ) -> None\n",
      "hi2\n",
      "[1551005842.41019893s] print_hi2(, ) -> None\n"
     ]
    }
   ],
   "source": [
    "import functools\n",
    "import time\n",
    "\n",
    "def clock_with_param(t=0):\n",
    "    def decorate(func):\n",
    "        @functools.wraps(func)\n",
    "        def clocked3(*args, **kwargs):\n",
    "            result = func(*args, **kwargs)\n",
    "            arg_str = ', '.join(repr(arg) for arg in args)\n",
    "            kwarg_str = ', '.join(repr(arg) for arg in kwargs)\n",
    "            print '[%0.8fs] %s(%s, %s) -> %r' % (t, func.__name__, arg_str, kwarg_str, result)\n",
    "            return result\n",
    "        return clocked3\n",
    "    return decorate\n",
    "\n",
    "if __name__ == '__main__':\n",
    "    @clock_with_param()\n",
    "    def print_hi():\n",
    "        print 'hi'\n",
    "        \n",
    "    @clock_with_param(time.time())\n",
    "    def print_hi2():\n",
    "        print 'hi2'\n",
    "        \n",
    "    print_hi()\n",
    "    print_hi2()"
   ]
  },
  {
   "cell_type": "markdown",
   "metadata": {},
   "source": [
    "`clock_with_param()`, `clock_with_param(time.time())`을 호출하여 리턴되는 `decorate`함수에 의해 `print_hi`, `print_hi2`가 `decorate`된다. <br>\n",
    "(이렇게 되면 사실 `clock_with_param`은 데코레이터가 아니라 데코레이터를 리턴하는 팩토리 함수에 가깝다.)"
   ]
  }
 ],
 "metadata": {
  "kernelspec": {
   "display_name": "Python 2",
   "language": "python",
   "name": "python2"
  },
  "language_info": {
   "codemirror_mode": {
    "name": "ipython",
    "version": 2
   },
   "file_extension": ".py",
   "mimetype": "text/x-python",
   "name": "python",
   "nbconvert_exporter": "python",
   "pygments_lexer": "ipython2",
   "version": "2.7.12"
  }
 },
 "nbformat": 4,
 "nbformat_minor": 2
}
