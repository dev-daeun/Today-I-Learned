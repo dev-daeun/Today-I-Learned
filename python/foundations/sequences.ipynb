{
 "cells": [
  {
   "cell_type": "markdown",
   "metadata": {},
   "source": [
    "### List Comprehension은 메모리를 누수하지 않는다."
   ]
  },
  {
   "cell_type": "markdown",
   "metadata": {},
   "source": [
    "python2에서 list comprehension 변수의 범위는 list comprehension 내부에 한정되는 게 아니라 list comprehension이 정의된 함수 전체에 해당한다. 따라서 list comprehension을 정의하고 내부에서 쓰이는 변수를 comprehension 외부에서 접근하는 것이 가능하다. comprehension이 종료되어도 바깥에서 변수를 접근하는게 가능해서 메모리 누수라고 하는 것 같다. "
   ]
  },
  {
   "cell_type": "code",
   "execution_count": 1,
   "metadata": {},
   "outputs": [
    {
     "name": "stdout",
     "output_type": "stream",
     "text": [
      "[97, 98, 99]\n"
     ]
    }
   ],
   "source": [
    "x = 'abc'\n",
    "dummy = [ord(x) for x in x]\n",
    "print(dummy)"
   ]
  },
  {
   "cell_type": "markdown",
   "metadata": {},
   "source": [
    "아래 예제를 보면 python2에서 정의된 `dummy`에는 `['s']`가 저장되어 있는데, list comprehension 내부에 정의된 `x`가 고유의 범위를 갖는 변수가 아니라\n",
    "for문을 돌면서 매번 값이 갱신되는 지역변수로 간주되기 때문이다."
   ]
  },
  {
   "cell_type": "code",
   "execution_count": 1,
   "metadata": {},
   "outputs": [
    {
     "ename": "SyntaxError",
     "evalue": "invalid syntax (<ipython-input-1-7c45a3439f20>, line 2)",
     "output_type": "error",
     "traceback": [
      "\u001b[0;36m  File \u001b[0;32m\"<ipython-input-1-7c45a3439f20>\"\u001b[0;36m, line \u001b[0;32m2\u001b[0m\n\u001b[0;31m    Python 2.7.10 (default, Oct  6 2017, 22:29:07)\u001b[0m\n\u001b[0m             ^\u001b[0m\n\u001b[0;31mSyntaxError\u001b[0m\u001b[0;31m:\u001b[0m invalid syntax\n"
     ]
    }
   ],
   "source": [
    "# ➜  ~ python\n",
    "Python 2.7.10 (default, Oct  6 2017, 22:29:07)\n",
    "[GCC 4.2.1 Compatible Apple LLVM 9.0.0 (clang-900.0.31)] on darwin\n",
    "Type \"help\", \"copyright\", \"credits\" or \"license\" for more information.\n",
    ">>> x = 'my precious'\n",
    ">>> dummy = [spell for spell in x]\n",
    ">>> print x\n",
    ">>> 's'\n",
    ">>> dummy\n",
    "['s']\n",
    ">>> exit()\n",
    "➜  ~ python3\n",
    "Python 3.6.4 (v3.6.4:d48ecebad5, Dec 18 2017, 21:07:28)\n",
    "[GCC 4.2.1 (Apple Inc. build 5666) (dot 3)] on darwin\n",
    "Type \"help\", \"copyright\", \"credits\" or \"license\" for more information.\n",
    ">>> x = 'my precious'\n",
    ">>> dummy = [spell for spell in x]\n",
    ">>> print(spell)\n",
    ">>> NameError: name 'spell' is not defined\n",
    ">>> dummy\n",
    "['m', 'y', ' ', 'p', 'r', 'e', 'c', 'i', 'o', 'u', 's']"
   ]
  },
  {
   "cell_type": "markdown",
   "metadata": {},
   "source": [
    "python3 에서는 `x`변수가 list comprehension 내부에서 고유한 범위를 가진다."
   ]
  },
  {
   "cell_type": "markdown",
   "metadata": {},
   "source": [
    "### list comprehension이 함수를 리턴한다면 "
   ]
  },
  {
   "cell_type": "code",
   "execution_count": 11,
   "metadata": {},
   "outputs": [
    {
     "name": "stdout",
     "output_type": "stream",
     "text": [
      "nested function is used.\n",
      "1 2 3 4 5 6 7 8 9 10 \n",
      "list comprehension used.\n",
      "i: 9\n",
      "10 10 10 10 10 10 10 10 10 10 "
     ]
    }
   ],
   "source": [
    "def r(i):\n",
    "    return lambda x: x + i\n",
    "funcs = []\n",
    "for i in range(0, 10):\n",
    "    funcs.append(r(i))\n",
    "\n",
    "print('nested function is used.')\n",
    "for i in range(0, 10):\n",
    "    print(funcs[i](1), end=' ')\n",
    "    \n",
    "funcs_li = [lambda x: x + i for i in range(0, 10)]\n",
    "print('\\nlist comprehension used.')\n",
    "print('i:', i)\n",
    "for i in range(0, 10):\n",
    "    print(funcs_li[i](1), end=' ')"
   ]
  },
  {
   "cell_type": "markdown",
   "metadata": {},
   "source": [
    "1. 리스트 컴프리헨션 생성.(for-loop을 돌면서 i는 9로 갱신됨.)\n",
    "2. 생성된 리스트를 순회하면서 함수를 호출.\n",
    "3. 리스트 컴프리헨션은 람다 함수의 클로저이므로 람다 함수를 호출하는 시기에 i의 값은 9. <br>\n",
    "   (클로저 변수는 nested function이 호출되기 전까지 evaluate되지 않는다.)\n",
    "4. 따라서 `funcs_li` 내부의 모든 람다 함수는 10을 리턴한다.\n",
    "\n",
    "위와 같이 의도하지 않은 현상이 생긴다면 `functools.partial()`을 이용하자. \n",
    "> The partial() is used for partial function application which “freezes” some portion of a function’s arguments and/or keywords resulting in a new object with a simplified signature. https://docs.python.org/2/library/functools.html\n",
    "\n",
    "출처 : https://stackoverflow.com/questions/1107210/python-lambda-problems"
   ]
  },
  {
   "cell_type": "code",
   "execution_count": 15,
   "metadata": {},
   "outputs": [
    {
     "name": "stdout",
     "output_type": "stream",
     "text": [
      "partial is used.\n",
      "1 2 3 4 5 6 7 8 9 10 "
     ]
    }
   ],
   "source": [
    "import functools\n",
    "funcs_li = []\n",
    "for i in range(0, 10):\n",
    "    funcs_li.append(functools.partial(lambda x: x + i))\n",
    "print('partial is used.')\n",
    "for i in range(0, 10):\n",
    "    print(funcs_li[i](1), end=' ')"
   ]
  },
  {
   "cell_type": "markdown",
   "metadata": {},
   "source": [
    "### comrehensions"
   ]
  },
  {
   "cell_type": "markdown",
   "metadata": {},
   "source": [
    "리스트 뿐만 아니라 딕셔너리와 집합 또한 comprehensions으로 만들 수 있다. <br>\n",
    "출처 : https://medium.freecodecamp.org/python-list-comprehensions-vs-generator-expressions-cef70ccb49db"
   ]
  },
  {
   "cell_type": "code",
   "execution_count": 3,
   "metadata": {},
   "outputs": [],
   "source": [
    "dict_comp = {x:chr(65+x) for x in range(1, 11)}"
   ]
  },
  {
   "cell_type": "code",
   "execution_count": 5,
   "metadata": {},
   "outputs": [
    {
     "name": "stdout",
     "output_type": "stream",
     "text": [
      "{1: 'B', 2: 'C', 3: 'D', 4: 'E', 5: 'F', 6: 'G', 7: 'H', 8: 'I', 9: 'J', 10: 'K'}\n",
      "<class 'dict'>\n"
     ]
    }
   ],
   "source": [
    "print(dict_comp)\n",
    "print(type(dict_comp))"
   ]
  },
  {
   "cell_type": "code",
   "execution_count": 6,
   "metadata": {},
   "outputs": [],
   "source": [
    "set_comp = { x ** 3 for x in range(1, 11) if x % 2 == 0}"
   ]
  },
  {
   "cell_type": "code",
   "execution_count": 8,
   "metadata": {},
   "outputs": [
    {
     "name": "stdout",
     "output_type": "stream",
     "text": [
      "{512, 64, 8, 1000, 216}\n",
      "<class 'set'>\n"
     ]
    }
   ],
   "source": [
    "print(set_comp)\n",
    "print(type(set_comp))"
   ]
  },
  {
   "cell_type": "markdown",
   "metadata": {},
   "source": [
    "제너레이터 표현식은 튜플을 사용한다."
   ]
  },
  {
   "cell_type": "code",
   "execution_count": 54,
   "metadata": {},
   "outputs": [
    {
     "name": "stdout",
     "output_type": "stream",
     "text": [
      "120\n",
      "72\n"
     ]
    }
   ],
   "source": [
    "genexp = (x for x in ['A' * 1000])\n",
    "import sys\n",
    "print(sys.getsizeof(genexp))\n",
    "print(sys.getsizeof(['A' * 1000]))"
   ]
  },
  {
   "cell_type": "code",
   "execution_count": 17,
   "metadata": {},
   "outputs": [
    {
     "data": {
      "text/plain": [
       "'hi'"
      ]
     },
     "execution_count": 17,
     "metadata": {},
     "output_type": "execute_result"
    }
   ],
   "source": [
    "next(genexp)"
   ]
  },
  {
   "cell_type": "code",
   "execution_count": 18,
   "metadata": {},
   "outputs": [
    {
     "data": {
      "text/plain": [
       "'안녕'"
      ]
     },
     "execution_count": 18,
     "metadata": {},
     "output_type": "execute_result"
    }
   ],
   "source": [
    "next(genexp)"
   ]
  },
  {
   "cell_type": "markdown",
   "metadata": {},
   "source": [
    "`map()`과 `filter()`를 list comprehension 으로 대체할 수 있다."
   ]
  },
  {
   "cell_type": "code",
   "execution_count": 26,
   "metadata": {},
   "outputs": [],
   "source": [
    "symbols = 'aBcDeFg'\n",
    "beyond_ascii = [ord(s) for s in symbols if ord(s) > 65] "
   ]
  },
  {
   "cell_type": "code",
   "execution_count": 27,
   "metadata": {},
   "outputs": [
    {
     "data": {
      "text/plain": [
       "[97, 66, 99, 68, 101, 70, 103]"
      ]
     },
     "execution_count": 27,
     "metadata": {},
     "output_type": "execute_result"
    }
   ],
   "source": [
    "beyond_ascii"
   ]
  },
  {
   "cell_type": "code",
   "execution_count": 30,
   "metadata": {},
   "outputs": [],
   "source": [
    "beyond_ascii = list(filter(lambda c: c > 65, map(ord, symbols)))"
   ]
  },
  {
   "cell_type": "code",
   "execution_count": 31,
   "metadata": {},
   "outputs": [
    {
     "data": {
      "text/plain": [
       "[97, 66, 99, 68, 101, 70, 103]"
      ]
     },
     "execution_count": 31,
     "metadata": {},
     "output_type": "execute_result"
    }
   ],
   "source": [
    "beyond_ascii"
   ]
  },
  {
   "cell_type": "markdown",
   "metadata": {},
   "source": [
    "list comprehension으로 두 개 이상의 반복 가능한 자료형의 데카르트 곱을 구현할 수 있다."
   ]
  },
  {
   "cell_type": "code",
   "execution_count": 32,
   "metadata": {},
   "outputs": [],
   "source": [
    "colors = ['black', 'white']"
   ]
  },
  {
   "cell_type": "code",
   "execution_count": 33,
   "metadata": {},
   "outputs": [],
   "source": [
    "sizes = ['S', 'M', 'L']"
   ]
  },
  {
   "cell_type": "code",
   "execution_count": 35,
   "metadata": {},
   "outputs": [
    {
     "data": {
      "text/plain": [
       "[('black', 'S'),\n",
       " ('black', 'M'),\n",
       " ('black', 'L'),\n",
       " ('white', 'S'),\n",
       " ('white', 'M'),\n",
       " ('white', 'L')]"
      ]
     },
     "execution_count": 35,
     "metadata": {},
     "output_type": "execute_result"
    }
   ],
   "source": [
    "tshirts = [(color, size) for color in colors \n",
    "                           for size in sizes]\n",
    "tshirts"
   ]
  },
  {
   "cell_type": "code",
   "execution_count": 37,
   "metadata": {},
   "outputs": [
    {
     "data": {
      "text/plain": [
       "[('black', 'S'),\n",
       " ('white', 'S'),\n",
       " ('black', 'M'),\n",
       " ('white', 'M'),\n",
       " ('black', 'L'),\n",
       " ('white', 'L')]"
      ]
     },
     "execution_count": 37,
     "metadata": {},
     "output_type": "execute_result"
    }
   ],
   "source": [
    "tshirts = [(color, size) for size in sizes \n",
    "                           for color in colors]\n",
    "tshirts  # 반복의 순서를 변경하려면 for문의 순서를 변경한다."
   ]
  },
  {
   "cell_type": "markdown",
   "metadata": {},
   "source": [
    "제너레이터 표현식은 한 번에 한 항목을 생성하므로 n개의 항목을 미리 한번에 정의하는 리스트와 달리 메모리 소모를 피할 수 있다."
   ]
  },
  {
   "cell_type": "code",
   "execution_count": 49,
   "metadata": {},
   "outputs": [
    {
     "name": "stdout",
     "output_type": "stream",
     "text": [
      "black, S\n",
      "black, M\n",
      "black, L\n",
      "white, S\n",
      "white, M\n",
      "white, L\n"
     ]
    }
   ],
   "source": [
    "for tshirt in (f'{c}, {s}' for c in colors for s in sizes):\n",
    "    print(tshirt)"
   ]
  },
  {
   "cell_type": "markdown",
   "metadata": {},
   "source": [
    "## array"
   ]
  },
  {
   "cell_type": "markdown",
   "metadata": {},
   "source": [
    "```python\n",
    "class array.array(typecode[, initializer])\n",
    "```\n",
    "<br>\n",
    "\n",
    "> A new array whose items are restricted by typecode, and initialized from the optional initializer value, which must be a list, a bytes-like object, or iterable over elements of the appropriate type.\n",
    "If given a list or string, the initializer is passed to the new array’s fromlist(), frombytes(), or fromunicode() method (see below) to add initial items to the array. Otherwise, the iterable initializer is passed to the extend() method.\n",
    "https://docs.python.org/3.4/library/array.html#array.array\n"
   ]
  },
  {
   "cell_type": "code",
   "execution_count": 40,
   "metadata": {},
   "outputs": [],
   "source": [
    "import array\n",
    "a = array.array('I', [ord(symbol) for symbol in symbols])  \n",
    "# list comprehension의 결과를 엘리먼트로 갖는 unsigned int 타입의 배열 생성"
   ]
  },
  {
   "cell_type": "code",
   "execution_count": 42,
   "metadata": {},
   "outputs": [
    {
     "data": {
      "text/plain": [
       "4"
      ]
     },
     "execution_count": 42,
     "metadata": {},
     "output_type": "execute_result"
    }
   ],
   "source": [
    "a.itemsize"
   ]
  },
  {
   "cell_type": "code",
   "execution_count": 43,
   "metadata": {},
   "outputs": [
    {
     "data": {
      "text/plain": [
       "103"
      ]
     },
     "execution_count": 43,
     "metadata": {},
     "output_type": "execute_result"
    }
   ],
   "source": [
    "a.pop()"
   ]
  },
  {
   "cell_type": "code",
   "execution_count": 45,
   "metadata": {},
   "outputs": [
    {
     "data": {
      "text/plain": [
       "'I'"
      ]
     },
     "execution_count": 45,
     "metadata": {},
     "output_type": "execute_result"
    }
   ],
   "source": [
    "a.typecode"
   ]
  },
  {
   "cell_type": "code",
   "execution_count": 47,
   "metadata": {},
   "outputs": [
    {
     "data": {
      "text/plain": [
       "'bBuhHiIlLqQfd'"
      ]
     },
     "execution_count": 47,
     "metadata": {},
     "output_type": "execute_result"
    }
   ],
   "source": [
    "array.typecodes  # available type code in array"
   ]
  },
  {
   "cell_type": "markdown",
   "metadata": {},
   "source": [
    "## tuple"
   ]
  },
  {
   "cell_type": "markdown",
   "metadata": {},
   "source": [
    "튜플은 레코드를 담고있다. 튜플의 각 항목은 레코드의 필드 하나를 의미하며 항목의 위치가 의미를 결정한다. <br>\n",
    "튜플을 필드의 집합으로 사용하는 경우에는 항목 수가 고정되어 있고 항목의 순서가 중요하다."
   ]
  },
  {
   "cell_type": "code",
   "execution_count": 2,
   "metadata": {},
   "outputs": [],
   "source": [
    "city, zipcode, address, phone = (\n",
    "    '화성시',\n",
    "    '18484',\n",
    "    '안알랴줌',\n",
    "    '01012341234'\n",
    ")"
   ]
  },
  {
   "cell_type": "markdown",
   "metadata": {},
   "source": [
    "언패킹은 튜플에만 한정되는 게 아니라 반복가능한 객체라면 모두 적용할 수 있다. iterable unpacking : https://www.python.org/dev/peps/pep-3132/"
   ]
  },
  {
   "cell_type": "code",
   "execution_count": 59,
   "metadata": {},
   "outputs": [
    {
     "name": "stdout",
     "output_type": "stream",
     "text": [
      "(2, 4)\n",
      "0\n",
      "2\n"
     ]
    }
   ],
   "source": [
    "t = divmod(20, 8)\n",
    "print(t)\n",
    "quotient, remainder = divmod(*t)\n",
    "print(quotient)\n",
    "print(remainder)"
   ]
  },
  {
   "cell_type": "markdown",
   "metadata": {},
   "source": [
    "`divmod(a, b)`\n",
    "> 두 개의 (복소수가 아닌) 숫자를 인자로 취하고 정수 나누기를 사용할 때의 몫과 나머지로 구성된 한 쌍의 숫자를 돌려줍니다. 두 인자의 형이 다른 경우, 이 항 산술 연산자에 대한 규칙이 적용됩니다. 정수의 경우, 결과는 (a // b, a % b) 와 같습니다. "
   ]
  },
  {
   "cell_type": "markdown",
   "metadata": {},
   "source": [
    "`_`(underscore)와 같은 더미 변수를 placeholder로 사용해서 관심 없는 부분은 언패킹할 때 무시할 수 있다."
   ]
  },
  {
   "cell_type": "code",
   "execution_count": 60,
   "metadata": {},
   "outputs": [
    {
     "name": "stdout",
     "output_type": "stream",
     "text": [
      "test.py\n"
     ]
    }
   ],
   "source": [
    "import os\n",
    "_, filename = os.path.split('/home/daeun.kim/test.py')\n",
    "print(filename)"
   ]
  },
  {
   "cell_type": "markdown",
   "metadata": {},
   "source": [
    "튜플은 언패킹할 때 일부 항목에만 관심이 있는 경우에는 `*`을 사용할 수도 있다.(어느 위치에서나 사용 가능.)"
   ]
  },
  {
   "cell_type": "code",
   "execution_count": 62,
   "metadata": {},
   "outputs": [
    {
     "name": "stdout",
     "output_type": "stream",
     "text": [
      "range(0, 5)\n"
     ]
    }
   ],
   "source": [
    "print(range(5))"
   ]
  },
  {
   "cell_type": "code",
   "execution_count": 63,
   "metadata": {},
   "outputs": [],
   "source": [
    "a, b, *rest = range(0,5)"
   ]
  },
  {
   "cell_type": "code",
   "execution_count": 64,
   "metadata": {},
   "outputs": [
    {
     "data": {
      "text/plain": [
       "(0, 1, [2, 3, 4])"
      ]
     },
     "execution_count": 64,
     "metadata": {},
     "output_type": "execute_result"
    }
   ],
   "source": [
    "a, b, rest"
   ]
  },
  {
   "cell_type": "code",
   "execution_count": 65,
   "metadata": {},
   "outputs": [],
   "source": [
    "a, b, *rest = range(0, 3)"
   ]
  },
  {
   "cell_type": "code",
   "execution_count": 66,
   "metadata": {},
   "outputs": [
    {
     "data": {
      "text/plain": [
       "(0, 1, [2])"
      ]
     },
     "execution_count": 66,
     "metadata": {},
     "output_type": "execute_result"
    }
   ],
   "source": [
    "a, b, rest"
   ]
  },
  {
   "cell_type": "code",
   "execution_count": 68,
   "metadata": {},
   "outputs": [],
   "source": [
    "a, b, *rest = range(0, 2)"
   ]
  },
  {
   "cell_type": "code",
   "execution_count": 69,
   "metadata": {},
   "outputs": [
    {
     "data": {
      "text/plain": [
       "(0, 1, [])"
      ]
     },
     "execution_count": 69,
     "metadata": {},
     "output_type": "execute_result"
    }
   ],
   "source": [
    "a, b, rest"
   ]
  },
  {
   "cell_type": "code",
   "execution_count": 70,
   "metadata": {},
   "outputs": [],
   "source": [
    "*a, b, rest = range(0, 5)"
   ]
  },
  {
   "cell_type": "code",
   "execution_count": 71,
   "metadata": {},
   "outputs": [
    {
     "data": {
      "text/plain": [
       "([0, 1, 2], 3, 4)"
      ]
     },
     "execution_count": 71,
     "metadata": {},
     "output_type": "execute_result"
    }
   ],
   "source": [
    "a, b, rest"
   ]
  },
  {
   "cell_type": "code",
   "execution_count": 72,
   "metadata": {},
   "outputs": [],
   "source": [
    "*a, b, rest = range(0, 4)"
   ]
  },
  {
   "cell_type": "code",
   "execution_count": 73,
   "metadata": {},
   "outputs": [
    {
     "data": {
      "text/plain": [
       "([0, 1], 2, 3)"
      ]
     },
     "execution_count": 73,
     "metadata": {},
     "output_type": "execute_result"
    }
   ],
   "source": [
    "a, b, rest"
   ]
  },
  {
   "cell_type": "markdown",
   "metadata": {},
   "source": [
    "**unpacking nested tuple**"
   ]
  },
  {
   "cell_type": "code",
   "execution_count": 74,
   "metadata": {},
   "outputs": [],
   "source": [
    "metro_areas = [\n",
    "    ('Tokyo', 'JP', 36.933, (35.689722, 139.691667)),   \n",
    "    ('Delhi NCR', 'IN', 21.935, (28.613889, 77.208889)),\n",
    "    ('Mexico City', 'MX', 20.142, (19.433333, -99.133333)),\n",
    "    ('New York-Newark', 'US', 20.104, (40.808611, -74.020386)),\n",
    "    ('Sao Paulo', 'BR', 19.649, (-23.547778, -46.635833)),\n",
    "]"
   ]
  },
  {
   "cell_type": "code",
   "execution_count": 75,
   "metadata": {},
   "outputs": [
    {
     "name": "stdout",
     "output_type": "stream",
     "text": [
      "Tokyo | 35.689722 | 139.691667\n",
      "Delhi NCR | 28.613889 | 77.208889\n",
      "Mexico City | 19.433333 | -99.133333\n",
      "New York-Newark | 40.808611 | -74.020386\n",
      "Sao Paulo | -23.547778 | -46.635833\n"
     ]
    }
   ],
   "source": [
    "for name, cc, pop, (lat, lon) in metro_areas:\n",
    "    print(f'{name} | {lat} | {lon}')"
   ]
  },
  {
   "cell_type": "markdown",
   "metadata": {},
   "source": [
    "**named tuple**"
   ]
  },
  {
   "cell_type": "markdown",
   "metadata": {},
   "source": [
    "필드에 이름을 붙일 필요가 있을 때는 `namedtuple()`을 사용한다."
   ]
  },
  {
   "cell_type": "markdown",
   "metadata": {},
   "source": [
    "```python\n",
    "collections.namedtuple(typename, field_names, *, rename=False, defaults=None, module=None)\n",
    "```\n",
    "> Returns a new tuple subclass named typename. The new subclass is used to create tuple-like objects that have fields accessible by attribute lookup as well as being indexable and iterable. Instances of the subclass also have a helpful docstring (with typename and field_names) and a helpful __repr__() method which lists the tuple contents in a name=value format.\n",
    "\n",
    "> The field_names are a sequence of strings such as ['x', 'y']. Alternatively, field_names can be a single string with each fieldname separated by whitespace and/or commas, for example 'x y' or 'x, y'.\n",
    "\n",
    "https://docs.python.org/3/library/collections.html#collections.namedtuple"
   ]
  },
  {
   "cell_type": "code",
   "execution_count": 84,
   "metadata": {},
   "outputs": [
    {
     "name": "stdout",
     "output_type": "stream",
     "text": [
      "Tokyo\n",
      "JP\n",
      "36.33\n",
      "(123.123, 345.456)\n",
      "----- print with tuples' index number ----\n",
      "Tokyo\n",
      "JP\n"
     ]
    }
   ],
   "source": [
    "import timeit\n",
    "from collections import namedtuple\n",
    "\n",
    "\n",
    "City = namedtuple('City', 'name country population coordinates')\n",
    "tokyo = City(name='Tokyo', country='JP', population=36.33, coordinates=(123.123, 345.456))\n",
    "print(tokyo.name)\n",
    "print(tokyo.country)\n",
    "print(tokyo.population)\n",
    "print(tokyo.coordinates)\n",
    "print(\"----- print with tuples' index number ----\")\n",
    "print(tokyo[0])\n",
    "print(tokyo[1])"
   ]
  },
  {
   "cell_type": "markdown",
   "metadata": {},
   "source": [
    "`namedtuple()`이 메모리를 적게 사용한다지만 시간적 비용은 어떨지 궁금해서 튜플, 딕셔너리의 성능과 비교해보았다.(메모리를 왜 적게사용하는지는 아직 조사중..)<br>\n",
    "timeit 모듈: https://docs.python.org/3/library/timeit.html<br>\n",
    "성능 관련해서 자세한 내용 : https://stackoverflow.com/questions/2646157/what-is-the-fastest-to-access-struct-like-object-in-python\n"
   ]
  },
  {
   "cell_type": "code",
   "execution_count": 93,
   "metadata": {},
   "outputs": [
    {
     "name": "stdout",
     "output_type": "stream",
     "text": [
      "tuple takes  0.033578151000256184\n",
      "namedtuple takes  0.059112099996127654\n",
      "dict takes  0.03153561499493662\n"
     ]
    }
   ],
   "source": [
    "import timeit\n",
    "\n",
    "setup_for_tuple = '''\n",
    "tokyo = ('Tokyo', 'JP', 36.33, (123.123, 345.456))\n",
    "'''\n",
    "print('tuple takes ', timeit.timeit('tokyo[2]', setup=setup_for_tuple))\n",
    "\n",
    "\n",
    "setup_for_namedtuple = '''\n",
    "from collections import namedtuple\n",
    "City = namedtuple('City', 'name country population coordinates') \n",
    "tokyo = City(name='Tokyo', country='JP', population=36.33, coordinates=(123.123, 345.456))\n",
    "'''\n",
    "print('namedtuple takes ', timeit.timeit('tokyo.population', setup=setup_for_namedtuple))\n",
    "\n",
    "\n",
    "setup_for_dict = '''\n",
    "tokyo = {\n",
    "'name': 'Tokyo',\n",
    "'country': 'JP',\n",
    "'population': 36.33,\n",
    "'coordinate': (123.123, 345.456)\n",
    "}\n",
    "'''\n",
    "print('dict takes ', timeit.timeit(\"tokyo['population']\", setup=setup_for_dict))"
   ]
  },
  {
   "cell_type": "markdown",
   "metadata": {},
   "source": [
    "결론적으로 `namedtuple`은 필드를 명시하기에는 적합하지만 성능이 상대적으로 좋진 않다.."
   ]
  }
 ],
 "metadata": {
  "kernelspec": {
   "display_name": "Python 3",
   "language": "python",
   "name": "python3"
  },
  "language_info": {
   "codemirror_mode": {
    "name": "ipython",
    "version": 3
   },
   "file_extension": ".py",
   "mimetype": "text/x-python",
   "name": "python",
   "nbconvert_exporter": "python",
   "pygments_lexer": "ipython3",
   "version": "3.7.2"
  }
 },
 "nbformat": 4,
 "nbformat_minor": 2
}
